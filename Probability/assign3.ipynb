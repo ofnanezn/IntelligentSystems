{
 "cells": [
  {
   "cell_type": "code",
   "execution_count": 1,
   "metadata": {
    "collapsed": true
   },
   "outputs": [],
   "source": [
    "from graphviz import Digraph\n",
    "import IPython"
   ]
  },
  {
   "cell_type": "markdown",
   "metadata": {},
   "source": [
    "# Intelligent Systems Assignment 3\n",
    "\n",
    "## Bayes' net inference\n",
    "\n",
    "**Names:** Oscar Fabián Ñáñez Núñez - Jonathan Alberto Granados\n",
    "\n",
    "**IDs:**  2879661"
   ]
  },
  {
   "cell_type": "code",
   "execution_count": 2,
   "metadata": {
    "collapsed": true
   },
   "outputs": [],
   "source": [
    "class Directions:\n",
    "    NORTH = 'North'\n",
    "    SOUTH = 'South'\n",
    "    EAST = 'East'\n",
    "    WEST = 'West'\n",
    "    STOP = 'Stop'"
   ]
  },
  {
   "cell_type": "code",
   "execution_count": 3,
   "metadata": {
    "collapsed": true
   },
   "outputs": [],
   "source": [
    "moves = {\n",
    "    Directions.NORTH: (-1,0),\n",
    "    Directions.SOUTH: (1,0),\n",
    "    Directions.EAST: (0,1),\n",
    "    Directions.WEST: (0,-1)\n",
    "}"
   ]
  },
  {
   "cell_type": "markdown",
   "metadata": {},
   "source": [
    "### a. Bayes' net for instant perception and position.\n",
    "\n",
    "Build a Bayes' net that represent the relationships between the random variables. Based on it, write an expression for the joint probability distribution of all the variables."
   ]
  },
  {
   "cell_type": "code",
   "execution_count": 4,
   "metadata": {
    "collapsed": false
   },
   "outputs": [
    {
     "data": {
      "text/plain": [
       "'Digraph.gv.pdf'"
      ]
     },
     "execution_count": 4,
     "metadata": {},
     "output_type": "execute_result"
    }
   ],
   "source": [
    "dot = Digraph(graph_attr={'size':'3.5'})\n",
    "\n",
    "dot.node('X')\n",
    "dot.node('Es')\n",
    "dot.node('En')\n",
    "dot.node('Ee')\n",
    "dot.node('Ew')\n",
    "\n",
    "dot.edge('X', 'Es')\n",
    "dot.edge('X', 'En')\n",
    "dot.edge('X', 'Ee')\n",
    "dot.edge('X', 'Ew')\n",
    "\n",
    "dot.render(view=True)"
   ]
  },
  {
   "cell_type": "markdown",
   "metadata": {
    "collapsed": true
   },
   "source": [
    "## Joint Probability\n",
    "$$P(X,E_N,E_S,E_E,E_W)=P(X)P(E_N|X)P(E_S|X)P(E_E|X)P(E_W|X)$$"
   ]
  },
  {
   "cell_type": "code",
   "execution_count": 5,
   "metadata": {
    "collapsed": false
   },
   "outputs": [],
   "source": [
    "cells = 24\n",
    "walls = [(2,2),(4,2),(5,2),(2,4),(4,4),(5,4)]\n",
    "maze = [\"########\",\n",
    "        \"#......#\",\n",
    "        \"#.#.##.#\",\n",
    "        \"#......#\",\n",
    "        \"#.#.##.#\",\n",
    "        \"#......#\",\n",
    "        \"########\"]"
   ]
  },
  {
   "cell_type": "markdown",
   "metadata": {},
   "source": [
    "### b. Probability functions calculated from the instant model.\n",
    "\n",
    "Assuming an uniform distribution for the Pacman position probability, write functions to calculate the following probabilities:\n",
    "\n",
    "i. $P(X=x|E_{N}=e_{N},E_{S}=e_{S})$"
   ]
  },
  {
   "cell_type": "code",
   "execution_count": 43,
   "metadata": {
    "collapsed": false
   },
   "outputs": [
    {
     "data": {
      "text/plain": [
       "{(1, 1): 0.016304347826086953,\n",
       " (1, 2): 0.038043478260869554,\n",
       " (1, 3): 0.038043478260869554,\n",
       " (1, 4): 0.038043478260869554,\n",
       " (1, 5): 0.08876811594202895,\n",
       " (2, 1): 0.038043478260869554,\n",
       " (2, 2): 0.0,\n",
       " (2, 3): 0.038043478260869554,\n",
       " (2, 4): 0.0,\n",
       " (2, 5): 0.038043478260869554,\n",
       " (3, 1): 0.016304347826086953,\n",
       " (3, 2): 0.038043478260869554,\n",
       " (3, 3): 0.038043478260869554,\n",
       " (3, 4): 0.038043478260869554,\n",
       " (3, 5): 0.08876811594202895,\n",
       " (4, 1): 0.038043478260869554,\n",
       " (4, 2): 0.0,\n",
       " (4, 3): 0.038043478260869554,\n",
       " (4, 4): 0.0,\n",
       " (4, 5): 0.038043478260869554,\n",
       " (5, 1): 0.038043478260869554,\n",
       " (5, 3): 0.038043478260869554,\n",
       " (5, 5): 0.038043478260869554,\n",
       " (6, 1): 0.016304347826086953,\n",
       " (6, 2): 0.038043478260869554,\n",
       " (6, 3): 0.038043478260869554,\n",
       " (6, 4): 0.038043478260869554,\n",
       " (6, 5): 0.08876811594202895}"
      ]
     },
     "execution_count": 43,
     "metadata": {},
     "output_type": "execute_result"
    }
   ],
   "source": [
    "def P_1(eps, E_N, E_S):\n",
    "    '''\n",
    "    Calculates: P(X=x|E_{N}=e_{N},E_{S}=e_{S})\n",
    "    Arguments: E_N, E_S \\in {True,False}\n",
    "               0 <= eps <= 1 (epsilon)\n",
    "    Returns: dictionary of type int x int --> float\n",
    "    '''\n",
    "    pd = {}\n",
    "    for t in range(5,0,-1):\n",
    "        i = abs(6-t)\n",
    "        for j in range(1,7):\n",
    "            if (j,i) not in walls:\n",
    "                if maze[t-1][j] == '#':\n",
    "                    wn = True == E_N\n",
    "                else:\n",
    "                    wn = False == E_N\n",
    "                if maze[t+1][j] == '#':\n",
    "                    ws = True == E_S\n",
    "                else:\n",
    "                    ws = False == E_S\n",
    "                pn = abs(wn-eps)\n",
    "                ps = abs(ws-eps)\n",
    "                pd[(j,i)] = pn*ps*(1/cells)\n",
    "            else:\n",
    "                pd[(i,j)] = 0\n",
    "    normalization = sum(pd.values())\n",
    "    for key in pd:\n",
    "        pd[key] /= normalization\n",
    "    return pd\n",
    "\n",
    "P_1(0.3, True, False)"
   ]
  },
  {
   "cell_type": "markdown",
   "metadata": {},
   "source": [
    "\n",
    "ii. $P (E_E = e_E |E_N = e_N , E_S = E_S )$"
   ]
  },
  {
   "cell_type": "code",
   "execution_count": 44,
   "metadata": {
    "collapsed": false
   },
   "outputs": [
    {
     "data": {
      "text/plain": [
       "{False: 0.5514492753623192, True: 0.4485507246376814}"
      ]
     },
     "execution_count": 44,
     "metadata": {},
     "output_type": "execute_result"
    }
   ],
   "source": [
    "def P_2(eps, E_N, E_S):\n",
    "    '''\n",
    "    Calculates: P(E_{E}=e_{E}|E_{N}=e_{N},E_{S}=e_{S})\n",
    "    Arguments: E_N, E_S \\in {True,False}\n",
    "               0 <= eps <= 1 (epsilon)\n",
    "    Returns: dictionary of Boolean --> float\n",
    "    '''\n",
    "    pd0 = {}\n",
    "    pd1 = {}\n",
    "    for i in range(1,6):\n",
    "        for j in range(1,7):\n",
    "            if (i,j) not in walls:\n",
    "                if maze[i-1][j] == '#':\n",
    "                    wn = True == E_N\n",
    "                else:\n",
    "                    wn = False == E_N\n",
    "                if maze[i+1][j] == '#':\n",
    "                    ws = True == E_S\n",
    "                else:\n",
    "                    ws = False == E_S\n",
    "                pn = abs(wn-eps)\n",
    "                ps = abs(ws-eps)\n",
    "                we = maze[i][j+1] == '#'\n",
    "                we0 = we == False\n",
    "                we1 = we == True \n",
    "                pe0 = abs(we0-eps)\n",
    "                pe1 = abs(we1-eps)\n",
    "                pd0[(i,j)] = pn*ps*(1/cells)\n",
    "                pd1[(i,j,0)] = pn*ps*pe0*(1/cells)\n",
    "                pd1[(i,j,1)] = pn*ps*pe1*(1/cells)\n",
    "            else:\n",
    "                pd0[(i,j)] = 0\n",
    "                pd1[(i,j,0)] = 0\n",
    "                pd1[(i,j,1)] = 0\n",
    "    pd = {}\n",
    "    normalization0 = 0.0\n",
    "    normalization1 = 0.0\n",
    "    for i,j,k in pd1:\n",
    "        if k == 0:\n",
    "            normalization0 += pd1[(i,j,k)]\n",
    "        else:\n",
    "            normalization1 += pd1[(i,j,k)]\n",
    "    normalization = sum(pd1.values())\n",
    "    pd[True] = normalization1/normalization\n",
    "    pd[False] = normalization0/normalization\n",
    "    return pd\n",
    "\n",
    "P_2(0.3, True, False)"
   ]
  },
  {
   "cell_type": "markdown",
   "metadata": {},
   "source": [
    "iii. $P (S)$, where $S \\subseteq \\{e_N,e_S,e_E,e_W\\}$"
   ]
  },
  {
   "cell_type": "code",
   "execution_count": 45,
   "metadata": {
    "collapsed": false
   },
   "outputs": [
    {
     "data": {
      "text/plain": [
       "0.09800000000000005"
      ]
     },
     "execution_count": 45,
     "metadata": {},
     "output_type": "execute_result"
    }
   ],
   "source": [
    "def P_3(eps, S):\n",
    "    '''\n",
    "    Calculates: P(S)\n",
    "    Arguments: S \\in dictionary of directions\n",
    "               0 <= eps <= 1 (epsilon)\n",
    "    Returns: float\n",
    "    '''\n",
    "    pd = 0.0\n",
    "    action = []\n",
    "    for d in S:\n",
    "        action.append((moves[d],d))\n",
    "    for i in range(5,0,-1):\n",
    "        for j in range(1,7):\n",
    "            if (j,i) not in walls:\n",
    "                joint = 1.0\n",
    "                for (y,x),d in action:\n",
    "                    if maze[i+y][j+x] == '#':\n",
    "                        w = True == S[d]\n",
    "                    else:\n",
    "                        w = False == S[d]\n",
    "                    e = abs(w-eps)\n",
    "                    joint *= e\n",
    "                pd += joint\n",
    "    return pd/cells\n",
    "\n",
    "P_3(0.2, {Directions.EAST: False, Directions.WEST: True, Directions.SOUTH: True})"
   ]
  },
  {
   "cell_type": "markdown",
   "metadata": {},
   "source": [
    "### c. Bayes' net for dynamic perception and position.\n",
    "\n",
    "Now we will consider a scenario where the Pacman moves a finite number of steps $n$. In this case we have $n$\n",
    "different variables for the positions $X_{1},\\dots,X_{n}$, as well as for each one of the perceptions, e.g.\n",
    "$E_{N_{1}},\\dots,E_{N_{n}}$ for the north perception. For the initial Pacman position, assume an uniform \n",
    "distribution among the valid positions. Also assume that at each time step the Pacman choses, to move, one of the valid neighbor positions with uniform probability. Draw the corresponding Bayes' net for $n=4$."
   ]
  },
  {
   "cell_type": "code",
   "execution_count": 46,
   "metadata": {
    "collapsed": false
   },
   "outputs": [
    {
     "data": {
      "text/plain": [
       "'Digraph.gv.pdf'"
      ]
     },
     "execution_count": 46,
     "metadata": {},
     "output_type": "execute_result"
    }
   ],
   "source": [
    "dot = Digraph(graph_attr={'size':'3.5'})\n",
    "\n",
    "dot.node('X1')\n",
    "dot.node('Es1')\n",
    "dot.node('En1')\n",
    "dot.node('Ee1')\n",
    "dot.node('Ew1')\n",
    "dot.node('X2')\n",
    "dot.node('Es2')\n",
    "dot.node('En2')\n",
    "dot.node('Ee2')\n",
    "dot.node('Ew2')\n",
    "dot.node('X3')\n",
    "dot.node('Es3')\n",
    "dot.node('En3')\n",
    "dot.node('Ee3')\n",
    "dot.node('Ew3')\n",
    "dot.node('X4')\n",
    "dot.node('Es4')\n",
    "dot.node('En4')\n",
    "dot.node('Ee4')\n",
    "dot.node('Ew4')\n",
    "\n",
    "dot.edge('X1', 'Es1')\n",
    "dot.edge('X1', 'En1')\n",
    "dot.edge('X1', 'Ee1')\n",
    "dot.edge('X1', 'Ew1')\n",
    "dot.edge('X1', 'X2')\n",
    "dot.edge('X2', 'Es2')\n",
    "dot.edge('X2', 'En2')\n",
    "dot.edge('X2', 'Ee2')\n",
    "dot.edge('X2', 'Ew2')\n",
    "dot.edge('X2', 'X3')\n",
    "dot.edge('X3', 'Es3')\n",
    "dot.edge('X3', 'En3')\n",
    "dot.edge('X3', 'Ee3')\n",
    "dot.edge('X3', 'Ew3')\n",
    "dot.edge('X3', 'X4')\n",
    "dot.edge('X4', 'Es4')\n",
    "dot.edge('X4', 'En4')\n",
    "dot.edge('X4', 'Ee4')\n",
    "dot.edge('X4', 'Ew4')\n",
    "\n",
    "dot.render(view=True)"
   ]
  },
  {
   "cell_type": "markdown",
   "metadata": {},
   "source": [
    "### d. Probability functions calculated from the dynamic model.\n",
    "\n",
    "Assuming an uniform distribution for the Pacman position probability, write functions to calculate the following probabilities:"
   ]
  },
  {
   "cell_type": "code",
   "execution_count": 47,
   "metadata": {
    "collapsed": true
   },
   "outputs": [],
   "source": [
    "wall = [(2,2),(4,2),(5,2),(2,4),(4,4),(5,4),(0,1),(0,2),(0,3),(0,4),(0,5),\n",
    "        (1,0),(2,0),(3,0),(4,0),(5,0),(6,0),(7,1),(7,2),(7,3),(7,4),(7,5),\n",
    "        (1,6),(2,6),(3,6),(4,6),(5,6),(6,6)]"
   ]
  },
  {
   "cell_type": "code",
   "execution_count": 48,
   "metadata": {
    "collapsed": false
   },
   "outputs": [],
   "source": [
    "def PX_1():\n",
    "    pd = {}\n",
    "    for i in range(1,6):\n",
    "        for j in range(1,7):\n",
    "            if (j,i) not in walls:\n",
    "                pd[(j,i)] = 1/cells\n",
    "    return pd"
   ]
  },
  {
   "cell_type": "code",
   "execution_count": 49,
   "metadata": {
    "collapsed": false
   },
   "outputs": [],
   "source": [
    "def P_En_X(En, eps):\n",
    "    pd = {}\n",
    "    for t in range(5,0,-1):\n",
    "        i = abs(6-t)\n",
    "        for j in range(1,7):\n",
    "            p = 1.0\n",
    "            if (j,i) not in walls:\n",
    "                for move in moves:\n",
    "                    x,y = moves[move]\n",
    "                    w = maze[t+x][j+y] == '#'\n",
    "                    pr = En[move] == w\n",
    "                    p *= abs(pr-eps)\n",
    "                pd[(j,i)] = p\n",
    "            else:\n",
    "                pd[(j,i)] = 0\n",
    "    #normalization = sum(pd.values())\n",
    "    #for key in pd:\n",
    "    #    pd[key] /= normalization\n",
    "    return pd     "
   ]
  },
  {
   "cell_type": "code",
   "execution_count": 50,
   "metadata": {
    "collapsed": false
   },
   "outputs": [],
   "source": [
    "def P_E_X(e,eps):\n",
    "    direction, e_n = e\n",
    "    pd = {}\n",
    "    for t in range(5,0,-1):\n",
    "        i = abs(6-t)\n",
    "        for j in range(1,7):\n",
    "            if (j,i) not in walls:\n",
    "                x,y = moves[direction]\n",
    "                w = maze[t+x][j+y] == '#'\n",
    "                pr = e_n == w\n",
    "                p = abs(pr-eps)\n",
    "                pd[(j,i)] = p\n",
    "            else:\n",
    "                pd[(j,i)] = 0\n",
    "    return pd"
   ]
  },
  {
   "cell_type": "code",
   "execution_count": 51,
   "metadata": {
    "collapsed": false
   },
   "outputs": [],
   "source": [
    "def X_move(p):\n",
    "    pd = {}\n",
    "    for i in range(1,6):\n",
    "        for j in range(1,7):\n",
    "            pd[(j,i)] = 0\n",
    "    for t in range(5,0,-1):\n",
    "        i = abs(6-t)\n",
    "        for j in range(1,7):\n",
    "            if (j,i) not in walls:\n",
    "                uniform = 1.0/sum([maze[t+x][j+y]!='#' for x,y in moves.values()])\n",
    "                for move in moves:\n",
    "                    x,y = moves[move]\n",
    "                    if maze[t+x][j+y] != '#':\n",
    "                        pd[(j+y,i-x)] += p[(j,i)] * uniform\n",
    "    return pd"
   ]
  },
  {
   "cell_type": "code",
   "execution_count": 52,
   "metadata": {
    "collapsed": true
   },
   "outputs": [],
   "source": [
    "def neighbors(x):\n",
    "    i,j = x\n",
    "    return [(i+n,j+m) for n,m in moves.values()]"
   ]
  },
  {
   "cell_type": "code",
   "execution_count": 53,
   "metadata": {
    "collapsed": false
   },
   "outputs": [],
   "source": [
    "hash_tran = {}\n",
    "\n",
    "def transition(x1,x2):\n",
    "    if (x1,x2) in hash_tran:\n",
    "        return hash_tran[(x1,x2)]\n",
    "    i,j = x1\n",
    "    uniform = 1.0/sum([(i+x,j+y) not in wall for x,y in moves.values()])\n",
    "    if x2 in neighbors(x1) and x1 not in wall:\n",
    "        hash_tran[(x1,x2)] = uniform\n",
    "        return uniform\n",
    "    else:\n",
    "        hash_tran[(x1,x2)] = 0\n",
    "        return 0\n"
   ]
  },
  {
   "cell_type": "code",
   "execution_count": 54,
   "metadata": {
    "collapsed": false
   },
   "outputs": [],
   "source": [
    "poss = [(6, 4), (3, 2), (1, 3), (4, 5), (5, 5), (2, 1), (6, 2), (2, 3), (1, 4), (5, 1),\n",
    "        (2, 5), (6, 5), (3, 5), (1, 2), (3, 3), (4, 1), (6, 1), (3, 1), (6, 3), (1, 5),\n",
    "        (4, 3), (5, 3), (3, 4), (1, 1)]"
   ]
  },
  {
   "cell_type": "markdown",
   "metadata": {},
   "source": [
    "i. $P(X_{4}=x_{4}|E_{1}=e_{1},E_{3}=e_{3})$"
   ]
  },
  {
   "cell_type": "code",
   "execution_count": 55,
   "metadata": {
    "collapsed": false
   },
   "outputs": [
    {
     "data": {
      "text/plain": [
       "{(1, 1): 0.09210526315789472,\n",
       " (1, 2): 0.0,\n",
       " (1, 3): 0.18421052631578944,\n",
       " (1, 4): 0.0,\n",
       " (1, 5): 0.09210526315789472,\n",
       " (2, 1): 0.0,\n",
       " (2, 2): 0.0,\n",
       " (2, 3): 0.0,\n",
       " (2, 4): 0.0,\n",
       " (2, 5): 0.0,\n",
       " (3, 1): 0.06578947368421052,\n",
       " (3, 2): 0.0,\n",
       " (3, 3): 0.13157894736842105,\n",
       " (3, 4): 0.0,\n",
       " (3, 5): 0.06578947368421052,\n",
       " (4, 1): 0.0,\n",
       " (4, 2): 0.0,\n",
       " (4, 3): 0.0,\n",
       " (4, 4): 0.0,\n",
       " (4, 5): 0.0,\n",
       " (5, 1): 0.0,\n",
       " (5, 2): 0.0,\n",
       " (5, 3): 0.0,\n",
       " (5, 4): 0.0,\n",
       " (5, 5): 0.0,\n",
       " (6, 1): 0.09210526315789472,\n",
       " (6, 2): 0.0,\n",
       " (6, 3): 0.18421052631578944,\n",
       " (6, 4): 0.0,\n",
       " (6, 5): 0.09210526315789472}"
      ]
     },
     "execution_count": 55,
     "metadata": {},
     "output_type": "execute_result"
    }
   ],
   "source": [
    "def P_4(eps, E_1, E_3):\n",
    "    pd = PX_1()\n",
    "    pe1 = P_En_X(E_1, eps)\n",
    "    for item in pd:\n",
    "        pd[item] = pd[item] * pe1[item] \n",
    "    pd = X_move(pd)\n",
    "    pd = X_move(pd)\n",
    "    pe3 = P_En_X(E_3, eps)\n",
    "    for item in pd:\n",
    "        pd[item] = pd[item] * pe3[item]\n",
    "    pd = X_move(pd)\n",
    "    normalization = sum(pd.values())\n",
    "    for key in pd:\n",
    "        pd[key] /= normalization\n",
    "    return pd\n",
    "\n",
    "E_1 = {Directions.NORTH: False, Directions.SOUTH: False, Directions.EAST: True, Directions.WEST: True}\n",
    "E_3 = {Directions.NORTH: False, Directions.SOUTH: False, Directions.EAST: True, Directions.WEST: True}\n",
    "P_4(0, E_1, E_3)"
   ]
  },
  {
   "cell_type": "markdown",
   "metadata": {},
   "source": [
    "ii. $P (X_2 = x_2 |E_2 = e_2 , E_3 = e_3 , E_4 = e_4 )$"
   ]
  },
  {
   "cell_type": "code",
   "execution_count": 56,
   "metadata": {
    "collapsed": false
   },
   "outputs": [
    {
     "data": {
      "text/plain": [
       "{(1, 1): 0.006033266722503496,\n",
       " (1, 2): 0.0006919407229220581,\n",
       " (1, 3): 0.0014046563064361425,\n",
       " (1, 4): 0.0018718767409863296,\n",
       " (1, 5): 0.006033266722503494,\n",
       " (2, 1): 0.03195296164595819,\n",
       " (2, 3): 0.0388402868959966,\n",
       " (2, 5): 0.17396612451688345,\n",
       " (3, 1): 0.04589812188624055,\n",
       " (3, 2): 0.0015805295255670352,\n",
       " (3, 3): 0.015264708345476411,\n",
       " (3, 4): 0.004108237925908911,\n",
       " (3, 5): 0.04589812188624053,\n",
       " (4, 1): 0.07314304186255612,\n",
       " (4, 3): 0.07879917405459788,\n",
       " (4, 5): 0.18018057042024294,\n",
       " (5, 1): 0.08049525275965082,\n",
       " (5, 3): 0.06170057004049744,\n",
       " (5, 5): 0.12246601393553701,\n",
       " (6, 1): 0.01125340128132544,\n",
       " (6, 2): 0.0006919407229220581,\n",
       " (6, 3): 0.004600657056735291,\n",
       " (6, 4): 0.00187187674098633,\n",
       " (6, 5): 0.011253401281325438}"
      ]
     },
     "execution_count": 56,
     "metadata": {},
     "output_type": "execute_result"
    }
   ],
   "source": [
    "def P_5(eps, E_2, E_3, E_4):\n",
    "    p_e2_x2 = P_En_X(E_2, eps)\n",
    "    p_e3_x3 = P_En_X(E_3, eps)\n",
    "    p_e4_x4 = P_En_X(E_4, eps)\n",
    "    \n",
    "    pd = {\n",
    "        x2: p_e2_x2[x2] * \n",
    "            sum([transition(x1,x2) for x1 in poss]) *\n",
    "            sum([sum([transition(x2,x3)*p_e3_x3[x3]*transition(x3,x4)*p_e4_x4[x4]\n",
    "                for x4 in poss])\n",
    "            for x3 in poss]) \n",
    "        for x2 in poss\n",
    "    }\n",
    "    normalization = sum(pd.values())\n",
    "    for key in pd:\n",
    "        pd[key] /= normalization\n",
    "    return pd\n",
    "\n",
    "E_2 = {Directions.NORTH: True, Directions.SOUTH: True, Directions.EAST: False, Directions.WEST: False}\n",
    "E_3 = {Directions.NORTH: True, Directions.SOUTH: False, Directions.EAST: False, Directions.WEST: False}\n",
    "E_4 = {Directions.NORTH: True, Directions.SOUTH: True, Directions.EAST: False, Directions.WEST: False}\n",
    "P_5(0.3, E_2, E_3, E_4)\n",
    "#assert approx_equal(pd[(2, 5)], 0.1739661245168835)\n",
    "#assert approx_equal(pd[(4, 3)], 0.0787991740545979)\n"
   ]
  },
  {
   "cell_type": "markdown",
   "metadata": {},
   "source": [
    "iii. $P(E_{4}=e_{4}|E_{1}=e_{1},E_{2}=e_{2},E_{3}=e_{3})$"
   ]
  },
  {
   "cell_type": "code",
   "execution_count": 57,
   "metadata": {
    "collapsed": false
   },
   "outputs": [],
   "source": [
    "val = [(a,b,c,d) for a in [True, False] for b in [True, False]\n",
    "          for c in [True, False] for d in [True, False]]\n",
    "\n",
    "def P_6(eps, E_1, E_2, E_3):\n",
    "    p_e1_x1 = P_En_X(E_1, eps)\n",
    "    p_e2_x2 = P_En_X(E_2, eps)\n",
    "    p_e3_x3 = P_En_X(E_3, eps)\n",
    "    p_e4 = {\n",
    "        (n,s,e,w):\n",
    "        P_En_X({\n",
    "                Directions.NORTH: n,\n",
    "                Directions.SOUTH: s,\n",
    "                Directions.WEST: w,\n",
    "                Directions.EAST: e,\n",
    "            }, eps)\n",
    "        for (n,s,e,w) in val\n",
    "    }\n",
    "    pd = {\n",
    "        e4: sum([\n",
    "                    p_e1_x1[x1]\n",
    "                * transition(x1,x2)\n",
    "                * p_e2_x2[x2]\n",
    "                * transition(x2,x3)\n",
    "                * p_e3_x3[x3]\n",
    "                * transition(x3,x4)\n",
    "                * p_e4[e4][x4]\n",
    "                for x1 in poss\n",
    "                for x2 in poss\n",
    "                for x3 in poss\n",
    "                for x4 in poss])\n",
    "        for e4 in val\n",
    "    }\n",
    "    normalization = sum(pd.values())\n",
    "    for key in pd:\n",
    "        pd[key] /= normalization\n",
    "    return pd\n",
    "\n",
    "E_1 = {Directions.NORTH: True, Directions.SOUTH: True, Directions.EAST: False, Directions.WEST: False}\n",
    "E_2 = {Directions.NORTH: True, Directions.SOUTH: True, Directions.EAST: False, Directions.WEST: False}\n",
    "E_3 = {Directions.NORTH: True, Directions.SOUTH: False, Directions.EAST: True, Directions.WEST: False}\n",
    "P_6(0.2, E_1, E_2, E_3)"
   ]
  },
  {
   "cell_type": "markdown",
   "metadata": {},
   "source": [
    "iv. $P(E_{E_{2}}=e_{E_{2}}|E_{N_{2}}=e_{N_{2}},E_{S_{2}}=E_{S_{2}})$"
   ]
  },
  {
   "cell_type": "code",
   "execution_count": 59,
   "metadata": {
    "collapsed": false
   },
   "outputs": [
    {
     "data": {
      "text/plain": [
       "{False: 0.5023529411764707, True: 0.4976470588235294}"
      ]
     },
     "execution_count": 59,
     "metadata": {},
     "output_type": "execute_result"
    }
   ],
   "source": [
    "def P_7(eps, E_N2, E_S2):\n",
    "    d = [(Directions.NORTH,E_N2), (Directions.SOUTH,E_S2)]\n",
    "    p_en_x = P_E_X(d[0], eps)\n",
    "    p_es_x = P_E_X(d[1], eps)\n",
    "    x1 = PX_1()\n",
    "    p = X_move(x1)\n",
    "    for pos in p:\n",
    "        p[pos] = p[pos]*p_en_x[pos]*p_es_x[pos]\n",
    "    pd = {\n",
    "        ee2: sum([p[x]*P_E_X((Directions.EAST,ee2),eps)[x] for x in poss])\n",
    "                for ee2 in [True, False]\n",
    "    }\n",
    "    normalization = sum(pd.values())\n",
    "    for key in pd:\n",
    "        pd[key] /= normalization\n",
    "    return pd\n",
    "                \n",
    "P_7(0.3, False, False)"
   ]
  },
  {
   "cell_type": "markdown",
   "metadata": {},
   "source": [
    "### Test functions\n",
    "\n",
    "You can use the following functions to test your solutions."
   ]
  },
  {
   "cell_type": "code",
   "execution_count": 61,
   "metadata": {
    "collapsed": false
   },
   "outputs": [
    {
     "name": "stdout",
     "output_type": "stream",
     "text": [
      "Passed all tests!\n"
     ]
    }
   ],
   "source": [
    "def approx_equal(val1, val2):\n",
    "    return abs(val1-val2) <= 0.00001\n",
    "\n",
    "def test_P_1():\n",
    "    pd = P_1(0.0, True, True)\n",
    "    assert approx_equal(pd[(2, 1)], 0.1111111111111111)\n",
    "    assert approx_equal(pd[(3, 1)], 0)\n",
    "    pd = P_1(0.3, True, False)\n",
    "    assert approx_equal(pd[(2, 1)], 0.03804347826086956)\n",
    "    assert approx_equal(pd[(3, 1)], 0.016304347826086956)\n",
    "\n",
    "def test_P_2():\n",
    "    pd = P_2(0.0, True, True)\n",
    "    assert approx_equal(pd[False], 1.0)\n",
    "    pd = P_2(0.3, True, False)\n",
    "    assert approx_equal(pd[False], 0.5514492753623188)\n",
    "\n",
    "def test_P_3():\n",
    "    pd = P_3(0.1, {Directions.EAST: True, Directions.WEST: True})\n",
    "    assert approx_equal(pd, 0.2299999999999999)\n",
    "    pd = P_3(0.1, {Directions.EAST: True})\n",
    "    assert approx_equal(pd, 0.3999999999999999)\n",
    "    pd = P_3(0.2, {Directions.EAST: False, Directions.WEST: True, Directions.SOUTH: True})\n",
    "    assert approx_equal(pd, 0.0980000000000000)\n",
    "\n",
    "def test_P_4():\n",
    "    E_1 = {Directions.NORTH: False, Directions.SOUTH: False, Directions.EAST: True, Directions.WEST: True}\n",
    "    E_3 = {Directions.NORTH: False, Directions.SOUTH: False, Directions.EAST: True, Directions.WEST: True}\n",
    "    pd = P_4(0.0, E_1, E_3)\n",
    "    assert approx_equal(pd[(6, 3)], 0.1842105263157895)\n",
    "    assert approx_equal(pd[(4, 3)], 0.0)\n",
    "    pd = P_4(0.2, E_1, E_3)\n",
    "    assert approx_equal(pd[(6, 3)], 0.17777843398830864)\n",
    "    assert approx_equal(pd[(4, 3)], 0.000578430282649176)\n",
    "    E_1 = {Directions.NORTH: True, Directions.SOUTH: False, Directions.EAST: True, Directions.WEST: False}\n",
    "    E_3 = {Directions.NORTH: False, Directions.SOUTH: False, Directions.EAST: True, Directions.WEST: False}\n",
    "    pd = P_4(0.0, E_1, E_3)\n",
    "    assert approx_equal(pd[(6, 2)], 0.3333333333333333)\n",
    "    assert approx_equal(pd[(4, 3)], 0.0)\n",
    "\n",
    "def test_P_5():\n",
    "    E_2 = {Directions.NORTH: True, Directions.SOUTH: True, Directions.EAST: False, Directions.WEST: False}\n",
    "    E_3 = {Directions.NORTH: True, Directions.SOUTH: False, Directions.EAST: False, Directions.WEST: False}\n",
    "    E_4 = {Directions.NORTH: True, Directions.SOUTH: True, Directions.EAST: False, Directions.WEST: False}\n",
    "    pd = P_5(0, E_2, E_3, E_4)\n",
    "    assert approx_equal(pd[(2, 5)], 0.5)\n",
    "    assert approx_equal(pd[(4, 3)], 0.0)\n",
    "    pd = P_5(0.3, E_2, E_3, E_4)\n",
    "    assert approx_equal(pd[(2, 5)], 0.1739661245168835)\n",
    "    assert approx_equal(pd[(4, 3)], 0.0787991740545979)\n",
    "\n",
    "def test_P_6():\n",
    "    E_1 = {Directions.NORTH: True, Directions.SOUTH: True, Directions.EAST: False, Directions.WEST: False}\n",
    "    E_2 = {Directions.NORTH: True, Directions.SOUTH: True, Directions.EAST: False, Directions.WEST: False}\n",
    "    E_3 = {Directions.NORTH: True, Directions.SOUTH: False, Directions.EAST: True, Directions.WEST: False}\n",
    "    pd = P_6(0.2, E_1, E_2, E_3)\n",
    "    assert approx_equal(pd[(False, False, True, True)], 0.15696739914079486)\n",
    "    assert approx_equal(pd[(True, True, False, False)], 0.20610191744824477)\n",
    "    pd = P_6(0., E_1, E_2, E_3)\n",
    "    assert approx_equal(pd[(False, False, True, True)], 0.5)\n",
    "    assert approx_equal(pd[(False, True, False, False)], 0.0)\n",
    "\n",
    "def test_P_7():\n",
    "    pd = P_7(0.0, True, False)\n",
    "    assert approx_equal(pd[False], 0.7142857142857143)\n",
    "    pd = P_7(0.3, False, False)\n",
    "    assert approx_equal(pd[False], 0.5023529411764706)\n",
    "    \n",
    "test_P_1()\n",
    "test_P_2()\n",
    "test_P_3()\n",
    "test_P_4()\n",
    "test_P_5()\n",
    "test_P_6()\n",
    "test_P_7()\n",
    "print('Passed all tests!')"
   ]
  },
  {
   "cell_type": "code",
   "execution_count": null,
   "metadata": {
    "collapsed": true
   },
   "outputs": [],
   "source": []
  }
 ],
 "metadata": {
  "anaconda-cloud": {},
  "kernelspec": {
   "display_name": "Python [conda root]",
   "language": "python",
   "name": "conda-root-py"
  },
  "language_info": {
   "codemirror_mode": {
    "name": "ipython",
    "version": 3
   },
   "file_extension": ".py",
   "mimetype": "text/x-python",
   "name": "python",
   "nbconvert_exporter": "python",
   "pygments_lexer": "ipython3",
   "version": "3.5.2"
  }
 },
 "nbformat": 4,
 "nbformat_minor": 1
}
