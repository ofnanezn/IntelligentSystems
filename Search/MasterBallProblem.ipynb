{
 "cells": [
  {
   "cell_type": "code",
   "execution_count": null,
   "metadata": {
    "collapsed": true
   },
   "outputs": [],
   "source": [
    "import util\n",
    "import search\n",
    "import sys\n",
    "import copy"
   ]
  },
  {
   "cell_type": "code",
   "execution_count": null,
   "metadata": {
    "collapsed": false
   },
   "outputs": [],
   "source": [
    "class MasterBallProblem(search.SearchProblem):\n",
    "    \n",
    "    def __init__(self,startState):\n",
    "        self.start = list(startState)\n",
    "        self.expanded = 0\n",
    "    \n",
    "    def getStartState(self):\n",
    "        return self.start\n",
    "    \n",
    "    def isGoalState(self,state):\n",
    "        for i in range(8):\n",
    "            for j in range(1,4):\n",
    "                if state[i][j] != state[i][j-1]:\n",
    "                    return False\n",
    "        return True\n",
    "    \n",
    "    def getSuccessors(self,state):\n",
    "        \n",
    "        R_0 = \"Right 0\"\n",
    "        R_1 = \"Right 1\"\n",
    "        R_2 = \"Right 2\"\n",
    "        R_3 = \"Right 3\"\n",
    "\n",
    "        V_0 = \"Vertical 0\"\n",
    "        V_1 = \"Vertical 1\"\n",
    "        V_2 = \"Vertical 2\"\n",
    "        V_3 = \"Vertical 3\"\n",
    "        V_4 = \"Vertical 4\"\n",
    "        V_5 = \"Vertical 5\"\n",
    "        V_6 = \"Vertical 6\"\n",
    "        V_7 = \"Vertical 7\"\n",
    "        successors = []\n",
    "        #R_0\n",
    "        r0 = list(state)\n",
    "        r0[0] = state[0][7:]+state[0][:7]\n",
    "        successors.append((r0,R_0))\n",
    "        #R_1\n",
    "        r1 = list(state)\n",
    "        r1[1] = state[1][7:]+state[1][:7]\n",
    "        successors = successors + [(r1,R_1)]\n",
    "        #R_2\n",
    "        r2 = list(state)\n",
    "        r2[2] = state[2][7:]+state[2][:7]\n",
    "        successors = successors + [(r2,R_2)]\n",
    "        #R_3\n",
    "        r3 = list(state)\n",
    "        r3[3] = state[3][7:]+state[3][:7] \n",
    "        successors = successors + [(r3,R_3)]\n",
    "        #V_0\n",
    "        v0 = copy.deepcopy(state)\n",
    "        for i in xrange(2):\n",
    "            for j in xrange(4):\n",
    "                (v0[i][j],v0[3-i][3-j]) = (v0[3-i][3-j],v0[i][j])\n",
    "        successors = successors + [(v0,V_0)]\n",
    "        #V_1\n",
    "        v1 = copy.deepcopy(state)\n",
    "        for i in xrange(2):\n",
    "            for j in xrange(1,5):\n",
    "                (v1[i][j],v1[3-i][4-j]) = (v1[3-i][4-j],v1[i][j])\n",
    "        successors = successors + [(v1,V_1)]\n",
    "        #V_2\n",
    "        v2 = copy.deepcopy(state)\n",
    "        for i in xrange(2):\n",
    "            for j in xrange(2,6):\n",
    "                (v2[i][j],v2[3-i][5-j]) = (v2[3-i][5-j],v2[i][j])\n",
    "        successors = successors + [(v2,V_2)]\n",
    "        #V_3\n",
    "        v3 = copy.deepcopy(state)\n",
    "        for i in xrange(2):\n",
    "            for j in xrange(3,7):\n",
    "                (v3[i][j],v3[3-i][6-j]) = (v3[3-i][6-j],v3[i][j])\n",
    "        successors = successors + [(v3,V_3)]\n",
    "        #V_4\n",
    "        v4 = copy.deepcopy(state)\n",
    "        for i in xrange(2):\n",
    "            for j in xrange(4,8):\n",
    "                (v4[i][j],v4[3-i][7-j]) = (v4[3-i][7-j],v4[i][j])\n",
    "        successors = successors + [(v4,V_4)]\n",
    "        #V_5\n",
    "        v5 = copy.deepcopy(state)\n",
    "        for i in xrange(2):\n",
    "            for j in xrange(5,9):\n",
    "                (v5[i][j%8],v5[3-i][(8-j)%8]) = (v5[3-i][(8-j)%8],v5[i][j%8])\n",
    "        successors = successors + [(v5,V_5)]\n",
    "        #V_6\n",
    "        v6 = copy.deepcopy(state)\n",
    "        for i in xrange(2):\n",
    "            for j in xrange(6,10):\n",
    "                (v6[i][j%8],v6[3-i][(9-j)%8]) = (v6[3-i][(9-j)%8],v6[i][j%8])\n",
    "        successors = successors + [(v6,V_6)]\n",
    "        #V_7\n",
    "        v7 = copy.deepcopy(state)\n",
    "        for i in range(2):\n",
    "            for j in range(7,11):\n",
    "                (v7[i][j%8],v7[3-i][(10-j)%8]) = (v7[3-i][(10-j)%8],v7[i][j%8])\n",
    "        successors = successors + [(v7,V_7)]\n",
    "        self.expanded += 8\n",
    "        return successors"
   ]
  },
  {
   "cell_type": "code",
   "execution_count": null,
   "metadata": {
    "collapsed": true
   },
   "outputs": [],
   "source": [
    "def depthLimitedSearch(problem,limit):\n",
    "    visited = {}\n",
    "    state = problem.getStartState()\n",
    "    frontier = util.Stack()\n",
    "    s = str(state)\n",
    "    depth = {}\n",
    "    depth[s] = 0\n",
    "    frontier.push((state, []))\n",
    "    visited[s] = 'gray'\n",
    "    while not frontier.isEmpty():\n",
    "        u, actions = frontier.pop()\n",
    "        uprime = str(u)\n",
    "        #print uprime,actions\n",
    "        if problem.isGoalState(u):\n",
    "            return  actions\n",
    "        if depth[uprime] == limit:\n",
    "            continue\n",
    "        for v, action in problem.getSuccessors(u):\n",
    "            vprime = str(v)\n",
    "            if not vprime in visited:\n",
    "                visited[vprime] = 'gray'\n",
    "                depth[vprime] = depth[uprime] + 1\n",
    "                frontier.push((v, actions + [action]))\n",
    "        visited[uprime] = 'black'\n",
    "    return []\n"
   ]
  },
  {
   "cell_type": "code",
   "execution_count": null,
   "metadata": {
    "collapsed": true
   },
   "outputs": [],
   "source": [
    "def IDS(problem):\n",
    "    for i in xrange(sys.maxint):\n",
    "        result = depthLimitedSearch(problem,i)\n",
    "        if len(result) > 0:\n",
    "            return result"
   ]
  },
  {
   "cell_type": "code",
   "execution_count": null,
   "metadata": {
    "collapsed": false
   },
   "outputs": [],
   "source": [
    "problem = MasterBallProblem([[0, 1, 4, 5, 6, 2, 3, 7], [0, 1, 3, 4, 5, 6, 3, 7], [1, 2, 4, 5, 6, 2, 7, 0], [0, 1, 4, 5, 6, 2, 3, 7]])\n",
    "#problem.getSuccessors(problem.getStartState())\n",
    "print IDS(problem)"
   ]
  },
  {
   "cell_type": "code",
   "execution_count": null,
   "metadata": {
    "collapsed": true
   },
   "outputs": [],
   "source": []
  }
 ],
 "metadata": {
  "anaconda-cloud": {},
  "kernelspec": {
   "display_name": "Python [conda env:py27]",
   "language": "python",
   "name": "conda-env-py27-py"
  },
  "language_info": {
   "codemirror_mode": {
    "name": "ipython",
    "version": 2
   },
   "file_extension": ".py",
   "mimetype": "text/x-python",
   "name": "python",
   "nbconvert_exporter": "python",
   "pygments_lexer": "ipython2",
   "version": "2.7.13"
  }
 },
 "nbformat": 4,
 "nbformat_minor": 1
}
