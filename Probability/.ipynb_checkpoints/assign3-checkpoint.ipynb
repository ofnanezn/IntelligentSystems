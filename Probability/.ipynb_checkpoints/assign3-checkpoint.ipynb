{
 "cells": [
  {
   "cell_type": "code",
   "execution_count": 1,
   "metadata": {
    "collapsed": true
   },
   "outputs": [],
   "source": [
    "from graphviz import Digraph\n",
    "import IPython"
   ]
  },
  {
   "cell_type": "markdown",
   "metadata": {},
   "source": [
    "# Intelligent Systems Assignment 3\n",
    "\n",
    "## Bayes' net inference\n",
    "\n",
    "**Names:** Oscar Fabián Ñáñez Núñez - Jonathan Alberto Granados\n",
    "\n",
    "**IDs:**  2879661"
   ]
  },
  {
   "cell_type": "code",
   "execution_count": 2,
   "metadata": {
    "collapsed": true
   },
   "outputs": [],
   "source": [
    "class Directions:\n",
    "    NORTH = 'North'\n",
    "    SOUTH = 'South'\n",
    "    EAST = 'East'\n",
    "    WEST = 'West'\n",
    "    STOP = 'Stop'"
   ]
  },
  {
   "cell_type": "code",
   "execution_count": 26,
   "metadata": {
    "collapsed": true
   },
   "outputs": [],
   "source": [
    "moves = {\n",
    "    Directions.NORTH: (-1,0),\n",
    "    Directions.SOUTH: (1,0),\n",
    "    Directions.EAST: (0,1),\n",
    "    Directions.WEST: (0,-1)\n",
    "}"
   ]
  },
  {
   "cell_type": "markdown",
   "metadata": {},
   "source": [
    "### a. Bayes' net for instant perception and position.\n",
    "\n",
    "Build a Bayes' net that represent the relationships between the random variables. Based on it, write an expression for the joint probability distribution of all the variables."
   ]
  },
  {
   "cell_type": "code",
   "execution_count": 4,
   "metadata": {
    "collapsed": false
   },
   "outputs": [
    {
     "data": {
      "text/plain": [
       "'Digraph.gv.pdf'"
      ]
     },
     "execution_count": 4,
     "metadata": {},
     "output_type": "execute_result"
    }
   ],
   "source": [
    "dot = Digraph(graph_attr={'size':'3.5'})\n",
    "\n",
    "dot.node('X')\n",
    "dot.node('Es')\n",
    "dot.node('En')\n",
    "dot.node('Ee')\n",
    "dot.node('Ew')\n",
    "\n",
    "dot.edge('X', 'Es')\n",
    "dot.edge('X', 'En')\n",
    "dot.edge('X', 'Ee')\n",
    "dot.edge('X', 'Ew')\n",
    "\n",
    "dot.render(view=True)"
   ]
  },
  {
   "cell_type": "markdown",
   "metadata": {
    "collapsed": true
   },
   "source": [
    "## Joint Probability\n",
    "$$P(X,E_N,E_S,E_E,E_W)=P(X)P(E_N|X)P(E_S|X)P(E_E|X)P(E_W|X)$$"
   ]
  },
  {
   "cell_type": "code",
   "execution_count": 3,
   "metadata": {
    "collapsed": false
   },
   "outputs": [],
   "source": [
    "cells = 24\n",
    "walls = [(2,2),(4,2),(5,2),(2,4),(4,4),(5,4)]\n",
    "maze = [\"########\",\n",
    "        \"#......#\",\n",
    "        \"#.#.##.#\",\n",
    "        \"#......#\",\n",
    "        \"#.#.##.#\",\n",
    "        \"#......#\",\n",
    "        \"########\"]"
   ]
  },
  {
   "cell_type": "markdown",
   "metadata": {},
   "source": [
    "### b. Probability functions calculated from the instant model.\n",
    "\n",
    "Assuming an uniform distribution for the Pacman position probability, write functions to calculate the following probabilities:\n",
    "\n",
    "i. $P(X=x|E_{N}=e_{N},E_{S}=e_{S})$"
   ]
  },
  {
   "cell_type": "code",
   "execution_count": 20,
   "metadata": {
    "collapsed": false
   },
   "outputs": [
    {
     "name": "stdout",
     "output_type": "stream",
     "text": [
      "0.23000000000000004\n"
     ]
    },
    {
     "data": {
      "text/plain": [
       "{(1, 1): 0.016304347826086953,\n",
       " (1, 2): 0.038043478260869554,\n",
       " (1, 3): 0.038043478260869554,\n",
       " (1, 4): 0.038043478260869554,\n",
       " (1, 5): 0.08876811594202895,\n",
       " (2, 1): 0.038043478260869554,\n",
       " (2, 2): 0.0,\n",
       " (2, 3): 0.038043478260869554,\n",
       " (2, 4): 0.0,\n",
       " (2, 5): 0.038043478260869554,\n",
       " (3, 1): 0.016304347826086953,\n",
       " (3, 2): 0.038043478260869554,\n",
       " (3, 3): 0.038043478260869554,\n",
       " (3, 4): 0.038043478260869554,\n",
       " (3, 5): 0.08876811594202895,\n",
       " (4, 1): 0.038043478260869554,\n",
       " (4, 2): 0.0,\n",
       " (4, 3): 0.038043478260869554,\n",
       " (4, 4): 0.0,\n",
       " (4, 5): 0.038043478260869554,\n",
       " (5, 1): 0.038043478260869554,\n",
       " (5, 3): 0.038043478260869554,\n",
       " (5, 5): 0.038043478260869554,\n",
       " (6, 1): 0.016304347826086953,\n",
       " (6, 2): 0.038043478260869554,\n",
       " (6, 3): 0.038043478260869554,\n",
       " (6, 4): 0.038043478260869554,\n",
       " (6, 5): 0.08876811594202895}"
      ]
     },
     "execution_count": 20,
     "metadata": {},
     "output_type": "execute_result"
    }
   ],
   "source": [
    "def P_1(eps, E_N, E_S):\n",
    "    '''\n",
    "    Calculates: P(X=x|E_{N}=e_{N},E_{S}=e_{S})\n",
    "    Arguments: E_N, E_S \\in {True,False}\n",
    "               0 <= eps <= 1 (epsilon)\n",
    "    Returns: dictionary of type int x int --> float\n",
    "    '''\n",
    "    pd = {}\n",
    "    for t in range(5,0,-1):\n",
    "        i = abs(6-t)\n",
    "        for j in range(1,7):\n",
    "            if (j,i) not in walls:\n",
    "                if maze[t-1][j] == '#':\n",
    "                    wn = True == E_N\n",
    "                else:\n",
    "                    wn = False == E_N\n",
    "                if maze[t+1][j] == '#':\n",
    "                    ws = True == E_S\n",
    "                else:\n",
    "                    ws = False == E_S\n",
    "                pn = abs(wn-eps)\n",
    "                ps = abs(ws-eps)\n",
    "                pd[(j,i)] = pn*ps*(1/cells)\n",
    "            else:\n",
    "                pd[(i,j)] = 0\n",
    "    normalization = sum(pd.values())\n",
    "    for key in pd:\n",
    "        pd[key] /= normalization\n",
    "    return pd\n",
    "\n",
    "P_1(0.3, True, False)"
   ]
  },
  {
   "cell_type": "markdown",
   "metadata": {},
   "source": [
    "ii. $P (E_E = e_E |E_N = e_N , E_S = E_S )$"
   ]
  },
  {
   "cell_type": "code",
   "execution_count": 5,
   "metadata": {
    "collapsed": false
   },
   "outputs": [
    {
     "data": {
      "text/plain": [
       "{False: 0.5514492753623192, True: 0.4485507246376814}"
      ]
     },
     "execution_count": 5,
     "metadata": {},
     "output_type": "execute_result"
    }
   ],
   "source": [
    "def P_2(eps, E_N, E_S):\n",
    "    '''\n",
    "    Calculates: P(E_{E}=e_{E}|E_{N}=e_{N},E_{S}=e_{S})\n",
    "    Arguments: E_N, E_S \\in {True,False}\n",
    "               0 <= eps <= 1 (epsilon)\n",
    "    Returns: dictionary of Boolean --> float\n",
    "    '''\n",
    "    pd0 = {}\n",
    "    pd1 = {}\n",
    "    for i in range(1,6):\n",
    "        for j in range(1,7):\n",
    "            if (i,j) not in walls:\n",
    "                if maze[i-1][j] == '#':\n",
    "                    wn = True == E_N\n",
    "                else:\n",
    "                    wn = False == E_N\n",
    "                if maze[i+1][j] == '#':\n",
    "                    ws = True == E_S\n",
    "                else:\n",
    "                    ws = False == E_S\n",
    "                pn = abs(wn-eps)\n",
    "                ps = abs(ws-eps)\n",
    "                we = maze[i][j+1] == '#'\n",
    "                we0 = we == False\n",
    "                we1 = we == True \n",
    "                pe0 = abs(we0-eps)\n",
    "                pe1 = abs(we1-eps)\n",
    "                pd0[(i,j)] = pn*ps*(1/cells)\n",
    "                pd1[(i,j,0)] = pn*ps*pe0*(1/cells)\n",
    "                pd1[(i,j,1)] = pn*ps*pe1*(1/cells)\n",
    "            else:\n",
    "                pd0[(i,j)] = 0\n",
    "                pd1[(i,j,0)] = 0\n",
    "                pd1[(i,j,1)] = 0\n",
    "    pd = {}\n",
    "    normalization0 = 0.0\n",
    "    normalization1 = 0.0\n",
    "    for i,j,k in pd1:\n",
    "        if k == 0:\n",
    "            normalization0 += pd1[(i,j,k)]\n",
    "        else:\n",
    "            normalization1 += pd1[(i,j,k)]\n",
    "    normalization = sum(pd1.values())\n",
    "    pd[True] = normalization1/normalization\n",
    "    pd[False] = normalization0/normalization\n",
    "    return pd\n",
    "\n",
    "P_2(0.3, True, False)"
   ]
  },
  {
   "cell_type": "code",
   "execution_count": 39,
   "metadata": {
    "collapsed": false
   },
   "outputs": [
    {
     "data": {
      "text/plain": [
       "0.09800000000000005"
      ]
     },
     "execution_count": 39,
     "metadata": {},
     "output_type": "execute_result"
    }
   ],
   "source": [
    "def P_3(eps, S):\n",
    "    '''\n",
    "    Calculates: P(S)\n",
    "    Arguments: S \\in dictionary of directions\n",
    "               0 <= eps <= 1 (epsilon)\n",
    "    Returns: float\n",
    "    '''\n",
    "    pd = 0.0\n",
    "    action = []\n",
    "    for d in S:\n",
    "        action.append((moves[d],d))\n",
    "    for i in range(5,0,-1):\n",
    "        for j in range(1,7):\n",
    "            if (j,i) not in walls:\n",
    "                joint = 1.0\n",
    "                for (y,x),d in action:\n",
    "                    if maze[i+y][j+x] == '#':\n",
    "                        w = True == S[d]\n",
    "                    else:\n",
    "                        w = False == S[d]\n",
    "                    e = abs(w-eps)\n",
    "                    joint *= e\n",
    "                pd += joint\n",
    "    return pd/cells\n",
    "\n",
    "P_3(0.2, {Directions.EAST: False, Directions.WEST: True, Directions.SOUTH: True})"
   ]
  },
  {
   "cell_type": "markdown",
   "metadata": {},
   "source": [
    "### Test functions\n",
    "\n",
    "You can use the following functions to test your solutions."
   ]
  },
  {
   "cell_type": "code",
   "execution_count": 40,
   "metadata": {
    "collapsed": false
   },
   "outputs": [
    {
     "name": "stdout",
     "output_type": "stream",
     "text": [
      "0.375\n",
      "0.23000000000000004\n"
     ]
    }
   ],
   "source": [
    "def approx_equal(val1, val2):\n",
    "    return abs(val1-val2) <= 0.00001\n",
    "\n",
    "def test_P_1():\n",
    "    pd = P_1(0.0, True, True)\n",
    "    assert approx_equal(pd[(2, 1)], 0.1111111111111111)\n",
    "    assert approx_equal(pd[(3, 1)], 0)\n",
    "    pd = P_1(0.3, True, False)\n",
    "    assert approx_equal(pd[(2, 1)], 0.03804347826086956)\n",
    "    assert approx_equal(pd[(3, 1)], 0.016304347826086956)\n",
    "\n",
    "def test_P_2():\n",
    "    pd = P_2(0.0, True, True)\n",
    "    assert approx_equal(pd[False], 1.0)\n",
    "    pd = P_2(0.3, True, False)\n",
    "    assert approx_equal(pd[False], 0.5514492753623188)\n",
    "\n",
    "def test_P_3():\n",
    "    pd = P_3(0.1, {Directions.EAST: True, Directions.WEST: True})\n",
    "    assert approx_equal(pd, 0.2299999999999999)\n",
    "    pd = P_3(0.1, {Directions.EAST: True})\n",
    "    assert approx_equal(pd, 0.3999999999999999)\n",
    "    pd = P_3(0.2, {Directions.EAST: False, Directions.WEST: True, Directions.SOUTH: True})\n",
    "    assert approx_equal(pd, 0.0980000000000000)\n",
    "\n",
    "def test_P_4():\n",
    "    E_1 = {Directions.NORTH: False, Directions.SOUTH: False, Directions.EAST: True, Directions.WEST: True}\n",
    "    E_3 = {Directions.NORTH: False, Directions.SOUTH: False, Directions.EAST: True, Directions.WEST: True}\n",
    "    pd = P_4(0.0, E_1, E_3)\n",
    "    assert approx_equal(pd[(6, 3)], 0.1842105263157895)\n",
    "    assert approx_equal(pd[(4, 3)], 0.0)\n",
    "    pd = P_4(0.2, E_1, E_3)\n",
    "    assert approx_equal(pd[(6, 3)], 0.17777843398830864)\n",
    "    assert approx_equal(pd[(4, 3)], 0.000578430282649176)\n",
    "    E_1 = {Directions.NORTH: True, Directions.SOUTH: False, Directions.EAST: True, Directions.WEST: False}\n",
    "    E_3 = {Directions.NORTH: False, Directions.SOUTH: False, Directions.EAST: True, Directions.WEST: False}\n",
    "    pd = P_4(0.0, E_1, E_3)\n",
    "    assert approx_equal(pd[(6, 2)], 0.3333333333333333)\n",
    "    assert approx_equal(pd[(4, 3)], 0.0)\n",
    "\n",
    "def test_P_5():\n",
    "    E_2 = {Directions.NORTH: True, Directions.SOUTH: True, Directions.EAST: False, Directions.WEST: False}\n",
    "    E_3 = {Directions.NORTH: True, Directions.SOUTH: False, Directions.EAST: False, Directions.WEST: False}\n",
    "    E_4 = {Directions.NORTH: True, Directions.SOUTH: True, Directions.EAST: False, Directions.WEST: False}\n",
    "    pd = P_5(0, E_2, E_3, E_4)\n",
    "    assert approx_equal(pd[(2, 5)], 0.5)\n",
    "    assert approx_equal(pd[(4, 3)], 0.0)\n",
    "    pd = P_5(0.3, E_2, E_3, E_4)\n",
    "    assert approx_equal(pd[(2, 5)], 0.1739661245168835)\n",
    "    assert approx_equal(pd[(4, 3)], 0.0787991740545979)\n",
    "\n",
    "def test_P_6():\n",
    "    E_1 = {Directions.NORTH: True, Directions.SOUTH: True, Directions.EAST: False, Directions.WEST: False}\n",
    "    E_2 = {Directions.NORTH: True, Directions.SOUTH: True, Directions.EAST: False, Directions.WEST: False}\n",
    "    E_3 = {Directions.NORTH: True, Directions.SOUTH: False, Directions.EAST: True, Directions.WEST: False}\n",
    "    pd = P_6(0.2, E_1, E_2, E_3)\n",
    "    assert approx_equal(pd[(False, False, True, True)], 0.15696739914079486)\n",
    "    assert approx_equal(pd[(True, True, False, False)], 0.20610191744824477)\n",
    "    pd = P_6(0., E_1, E_2, E_3)\n",
    "    assert approx_equal(pd[(False, False, True, True)], 0.5)\n",
    "    assert approx_equal(pd[(False, True, False, False)], 0.0)\n",
    "\n",
    "def test_P_7():\n",
    "    pd = P_7(0.0, True, False)\n",
    "    assert approx_equal(pd[False], 0.7142857142857143)\n",
    "    pd = P_7(0.3, False, False)\n",
    "    assert approx_equal(pd[False], 0.5023529411764706)\n",
    "    \n",
    "test_P_1()\n",
    "test_P_2()\n",
    "test_P_3()"
   ]
  }
 ],
 "metadata": {
  "anaconda-cloud": {},
  "kernelspec": {
   "display_name": "Python [conda root]",
   "language": "python",
   "name": "conda-root-py"
  },
  "language_info": {
   "codemirror_mode": {
    "name": "ipython",
    "version": 3
   },
   "file_extension": ".py",
   "mimetype": "text/x-python",
   "name": "python",
   "nbconvert_exporter": "python",
   "pygments_lexer": "ipython3",
   "version": "3.5.2"
  }
 },
 "nbformat": 4,
 "nbformat_minor": 1
}
