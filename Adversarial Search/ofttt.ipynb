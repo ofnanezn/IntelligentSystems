{
 "cells": [
  {
   "cell_type": "code",
   "execution_count": 1,
   "metadata": {
    "collapsed": true
   },
   "outputs": [],
   "source": [
    "import copy"
   ]
  },
  {
   "cell_type": "markdown",
   "metadata": {},
   "source": [
    "## Load pattern database"
   ]
  },
  {
   "cell_type": "code",
   "execution_count": 2,
   "metadata": {
    "collapsed": false
   },
   "outputs": [],
   "source": [
    "f = open('pattern_database.txt')\n",
    "pattern_database = {}\n",
    "for line in f:\n",
    "    key,value = line.strip().split('=')\n",
    "    #Save pattern in dictionary with key as state and value as victory for that configuration.\n",
    "    pattern_database[key] = int(value)"
   ]
  },
  {
   "cell_type": "markdown",
   "metadata": {},
   "source": [
    "## Game abstract definition"
   ]
  },
  {
   "cell_type": "code",
   "execution_count": 3,
   "metadata": {
    "collapsed": false
   },
   "outputs": [],
   "source": [
    "class Game:\n",
    "    \"\"\"A game is similar to a problem, but it has a utility for each\n",
    "    state and a terminal test instead of a path cost and a goal\n",
    "    test. To create a game, subclass this class and implement\n",
    "    legal_moves, make_move, utility, and terminal_test. You may\n",
    "    override display and successors or you can inherit their default\n",
    "    methods. You will also need to set the .initial attribute to the\n",
    "    initial state; this can be done in the constructor.\"\"\"\n",
    "\n",
    "    def legal_moves(self, state):\n",
    "        \"Return a list of the allowable moves at this point.\"\n",
    "        abstract\n",
    "\n",
    "    def make_move(self, move, state):\n",
    "        \"Return the state that results from making a move from a state.\"\n",
    "        abstract\n",
    "\n",
    "    def utility(self, state, player):\n",
    "        \"Return the value of this final state to player.\"\n",
    "        abstract\n",
    "\n",
    "    def terminal_test(self, state):\n",
    "        \"Return True if this is a final state for the game.\"\n",
    "        return not self.legal_moves(state)\n",
    "\n",
    "    def to_move(self, state):\n",
    "        \"Return the player whose move it is in this state.\"\n",
    "        return state.to_move\n",
    "\n",
    "    def display(self, state):\n",
    "        \"Print or otherwise display the state.\"\n",
    "        print state\n",
    "\n",
    "    def successors(self, state):\n",
    "        \"Return a list of legal (move, state) pairs.\"\n",
    "        return [(move, self.make_move(move, state))\n",
    "                for move in self.legal_moves(state)]\n",
    "\n",
    "    def __repr__(self):\n",
    "        return '<%s>' % self.__class__.__name__"
   ]
  },
  {
   "cell_type": "code",
   "execution_count": 4,
   "metadata": {
    "collapsed": true
   },
   "outputs": [],
   "source": [
    "\n",
    "def argmin(seq, fn):\n",
    "    \"\"\"Return an element with lowest fn(seq[i]) score; tie goes to first one.\n",
    "    >>> argmin(['one', 'to', 'three'], len)\n",
    "    'to'\n",
    "    \"\"\"\n",
    "    best = seq[0]; best_score = fn(best)\n",
    "    for x in seq:\n",
    "        x_score = fn(x)\n",
    "        if x_score < best_score:\n",
    "            best, best_score = x, x_score\n",
    "    return best\n",
    "\n",
    "def argmax(seq, fn):\n",
    "    \"\"\"Return an element with highest fn(seq[i]) score; tie goes to first one.\n",
    "    >>> argmax(['one', 'to', 'three'], len)\n",
    "    'three'\n",
    "    \"\"\"\n",
    "    return argmin(seq, lambda x: -fn(x))"
   ]
  },
  {
   "cell_type": "markdown",
   "metadata": {},
   "source": [
    "## Alphabeta Search"
   ]
  },
  {
   "cell_type": "code",
   "execution_count": 5,
   "metadata": {
    "collapsed": true
   },
   "outputs": [],
   "source": [
    "def alphabeta_search(state, game, d=float('inf'), cutoff_test=None, eval_fn=None):\n",
    "    \"\"\"Search game to determine best action; use alpha-beta pruning.\n",
    "    This version cuts off search and uses an evaluation function.\"\"\"\n",
    "\n",
    "    player = game.to_move(state)\n",
    "\n",
    "    def max_value(state, alpha, beta, depth):\n",
    "        if cutoff_test(state, depth):\n",
    "            return eval_fn(state, player)\n",
    "        v = -float('inf')\n",
    "        for (a, s) in game.successors(state):\n",
    "            v = max(v, min_value(s, alpha, beta, depth+1))\n",
    "            if v >= beta:\n",
    "                return v\n",
    "            alpha = max(alpha, v)\n",
    "        return v\n",
    "\n",
    "    def min_value(state, alpha, beta, depth):\n",
    "        if cutoff_test(state, depth):\n",
    "            return eval_fn(state, player)\n",
    "        v = float('inf')\n",
    "        for (a, s) in game.successors(state):\n",
    "            v = min(v, max_value(s, alpha, beta, depth+1))\n",
    "            if v <= alpha:\n",
    "                return v\n",
    "            beta = min(beta, v)\n",
    "        return v\n",
    "\n",
    "    # Body of alphabeta_search starts here:\n",
    "    # The default test cuts off at depth d or at a terminal state\n",
    "    cutoff_test = (cutoff_test or\n",
    "                   (lambda state,depth: depth>d or game.terminal_test(state)))\n",
    "    eval_fn = eval_fn or (lambda state, player: game.utility(state, player))\n",
    "    action, state = argmax(game.successors(state),\n",
    "                           lambda ((a, s)): min_value(s, -float('inf'), float('inf'), 0))\n",
    "    return action"
   ]
  },
  {
   "cell_type": "markdown",
   "metadata": {},
   "source": [
    "## Evaluation function\n",
    "The main idea is to count the number of pieces of the same color in a row, column or diagonal, but it also takes into account the number of pieces of the rival."
   ]
  },
  {
   "cell_type": "code",
   "execution_count": 6,
   "metadata": {
    "collapsed": false
   },
   "outputs": [],
   "source": [
    "def fn(state,player):\n",
    "    maxRed = 1\n",
    "    maxBlue = 1        #Counters for maximum number of pieces\n",
    "    board = state[1]\n",
    "    for i in xrange(6):\n",
    "        for j in xrange(6):\n",
    "            if board[i][j] != None:         #Looking for some color\n",
    "                x,y = i,j \n",
    "                color = board[i][j] \n",
    "                count = 1\n",
    "                auxcount = 1\n",
    "                #Count for diagonal right upside down\n",
    "                while y+1 < len(board) and x-1 >= 0 and board[x-1][y+1] == color and count != 4:\n",
    "                    x -= 1\n",
    "                    y += 1    \n",
    "                    count += 1          \n",
    "                auxcount = max(auxcount, count)\n",
    "                x,y = i,j\n",
    "                count = 1\n",
    "                #Count for same column\n",
    "                while x+1 < len(board) and board[x+1][y] == color and count != 4:\n",
    "                    x += 1\n",
    "                    count += 1\n",
    "                auxcount = max(auxcount, count)\n",
    "                x,y = i,j\n",
    "                count = 1\n",
    "                #Count for same row\n",
    "                while y+1 < len(board) and board[x][y+1] == color and count != 4:\n",
    "                    y += 1\n",
    "                    count += 1\n",
    "                auxcount = max(auxcount, count)\n",
    "                x,y = i,j\n",
    "                count = 1\n",
    "                #Count for diagonal right upside\n",
    "                while x+1 < len(board) and y+1 < len(board) and board[x+1][y+1] == color and count != 4:\n",
    "                    x += 1\n",
    "                    y += 1\n",
    "                    count += 1\n",
    "                auxcount = max(auxcount, count)\n",
    "                #Assign current color to the corresponding counter\n",
    "                if color == 'R':\n",
    "                    maxRed = max(maxRed, auxcount)\n",
    "                else:\n",
    "                    maxBlue = max(maxBlue, auxcount)\n",
    "    #Verify the current player and assign the evaluation function\n",
    "    if player == 1:\n",
    "        if maxRed == 4:\n",
    "            return 10\n",
    "        if maxBlue == 4:\n",
    "            return -10\n",
    "        return maxRed-maxBlue\n",
    "    else:\n",
    "        if maxBlue == 4:\n",
    "            return 10\n",
    "        if maxRed == 4:\n",
    "            return -10\n",
    "        return maxBlue-maxRed\n"
   ]
  },
  {
   "cell_type": "markdown",
   "metadata": {},
   "source": [
    "## Players"
   ]
  },
  {
   "cell_type": "code",
   "execution_count": 7,
   "metadata": {
    "collapsed": true
   },
   "outputs": [],
   "source": [
    "#Query player, input is a tuple introduced as two numbers separated by a space\n",
    "def query_player(game, state):\n",
    "    \"Make a move by querying standard input.\"\n",
    "    x,y = map(int,raw_input('Your move? ').split(\" \"))\n",
    "    while (x,y) not in game.legal_moves(state):         #Verify wether it is a legal move or not\n",
    "        x,y = map(int,raw_input('Your move? ').split(\" \"))\n",
    "    return x,y"
   ]
  },
  {
   "cell_type": "code",
   "execution_count": 8,
   "metadata": {
    "collapsed": true
   },
   "outputs": [],
   "source": [
    "#Alphabeta player\n",
    "def alphabeta_player(game, state):\n",
    "    return alphabeta_search(state, game)"
   ]
  },
  {
   "cell_type": "code",
   "execution_count": 9,
   "metadata": {
    "collapsed": true
   },
   "outputs": [],
   "source": [
    "#Alphabeta player with evaluation function\n",
    "def smart_player(game, state):\n",
    "    return alphabeta_search(state, game, d = 2, eval_fn = fn)"
   ]
  },
  {
   "cell_type": "code",
   "execution_count": 10,
   "metadata": {
    "collapsed": true
   },
   "outputs": [],
   "source": [
    "#Random player\n",
    "import random\n",
    "\n",
    "def random_player(game, state):\n",
    "    \"A player that chooses a legal move at random.\"\n",
    "    return random.choice(game.legal_moves(state))"
   ]
  },
  {
   "cell_type": "markdown",
   "metadata": {},
   "source": [
    "## Problem Definition\n",
    "In general, state is represented by a tuple (player, board)."
   ]
  },
  {
   "cell_type": "code",
   "execution_count": 11,
   "metadata": {
    "collapsed": false
   },
   "outputs": [],
   "source": [
    "class ofttt():\n",
    "    \n",
    "    def __init__(self):\n",
    "        self.board = [[] for i in xrange(6)]\n",
    "        for i in xrange(6):\n",
    "            self.board[i] = [None for j in xrange(6)]\n",
    "        self.board[0][0] = 'R'\n",
    "        self.board[0][5] = 'R'\n",
    "        self.board[5][0] = 'R'\n",
    "        self.board[5][5] = 'R'\n",
    "        self.turn = 0\n",
    "        #Initial state, turn=0 for blue player and turn=1 for red player\n",
    "        #Board is represented with a matrix None=empty, R=red and B=blue\n",
    "        self.initial = (self.turn, self.board)  \n",
    "        \n",
    "    def legal_moves(self, state):\n",
    "        \"Return a list of the allowable moves at this point.\"\n",
    "        legalMoves = []\n",
    "        board = state[1]\n",
    "        for i in xrange(6):\n",
    "            for j in xrange(6):\n",
    "                if board[i][j] != 'R' and board[i][j] != 'B':\n",
    "                    legalMoves.append((i,j))\n",
    "        #Return the moves that are empty\n",
    "        return legalMoves\n",
    "\n",
    "    def make_move(self, move, state):\n",
    "        \"Return the state that results from making a move from a state.\"\n",
    "        next_board = copy.deepcopy(state[1])\n",
    "        x,y = move\n",
    "        to_move = state[0]\n",
    "        if to_move == 0:\n",
    "            next_board[x][y] = 'B'\n",
    "        elif to_move == 1:\n",
    "            next_board[x][y] = 'R'\n",
    "        #Return the complement of to_move which is the adversarial turn and the board with the corresponding move\n",
    "        return (1-to_move, next_board)\n",
    "    \n",
    "    \n",
    "    def utility(self, state, player):\n",
    "        \"Return the value of this final state to player.\"\n",
    "        #First, verify wether the board is full or not\n",
    "        if len(self.legal_moves(state)) == 0:\n",
    "            victory = False\n",
    "            board = state[1]\n",
    "            #Now, we look for draw or victory using the test win function\n",
    "            if player == 0:\n",
    "                for i in xrange(6):\n",
    "                    for j in xrange(6):\n",
    "                        if board[i][j] == 'B' and not victory:\n",
    "                            victory = test_win(board,(i,j),'B')\n",
    "            else:\n",
    "                for i in xrange(6):\n",
    "                    for j in xrange(6):\n",
    "                        if board[i][j] == 'R' and not victory:\n",
    "                            victory = test_win(board,(i,j),'R')\n",
    "            #Draw Case\n",
    "            if not victory:\n",
    "                return 0\n",
    "        #Lose case\n",
    "        if state[0] == player:\n",
    "            return -10\n",
    "        #Victory case\n",
    "        else:\n",
    "            return 10\n",
    "\n",
    "    def terminal_test(self, state):\n",
    "        \"Return True if this is a final state for the game.\"\n",
    "        board = state[1]\n",
    "        victory = False\n",
    "        for i in xrange(6):\n",
    "            for j in xrange(6):\n",
    "                if board[i][j] == 'R' and not victory:\n",
    "                    victory = test_win(board,(i,j),'R')\n",
    "                elif board[i][j] == 'B' and not victory:\n",
    "                    victory = test_win(board,(i,j),'B')\n",
    "        #Return true if there is a victory or the board is full.\n",
    "        return len(self.legal_moves(state)) == 0 or victory\n",
    "\n",
    "    def to_move(self, state):\n",
    "        \"Return the player whose move it is in this state.\"\n",
    "        return state[0]\n",
    "\n",
    "    def display(self, state):\n",
    "        \"Print or otherwise display the state.\"\n",
    "        for i in state[1]:\n",
    "            print i\n",
    "\n",
    "    def successors(self, state):\n",
    "        \"Return a list of legal (move, state) pairs.\"\n",
    "        return [(move, self.make_move(move, state))\n",
    "                for move in self.legal_moves(state)]"
   ]
  },
  {
   "cell_type": "markdown",
   "metadata": {},
   "source": [
    "## Test Victory\n",
    "Function to test wether the current configuration is victory for a player or not."
   ]
  },
  {
   "cell_type": "code",
   "execution_count": 12,
   "metadata": {
    "collapsed": true
   },
   "outputs": [],
   "source": [
    "def test_win(board, pos, color):\n",
    "    x,y = pos\n",
    "    count = 1\n",
    "    while y+1 < len(board) and x-1 >= 0 and board[x-1][y+1] == color and count != 4:\n",
    "        x -= 1\n",
    "        y += 1\n",
    "        count += 1\n",
    "    if count == 4:\n",
    "        return True\n",
    "    x,y = pos\n",
    "    count = 1\n",
    "    while x+1 < len(board) and board[x+1][y] == color and count != 4:\n",
    "        x += 1\n",
    "        count += 1\n",
    "    if count == 4:\n",
    "        return True\n",
    "    x,y = pos\n",
    "    count = 1\n",
    "    while y+1 < len(board) and board[x][y+1] == color and count != 4:\n",
    "        y += 1\n",
    "        count += 1\n",
    "    if count == 4:\n",
    "        return True\n",
    "    x,y = pos\n",
    "    count = 1\n",
    "    while x+1 < len(board) and y+1 < len(board) and board[x+1][y+1] == color and count != 4:\n",
    "        x += 1\n",
    "        y += 1\n",
    "        count += 1\n",
    "    if count == 4:\n",
    "        return True\n",
    "    return False"
   ]
  },
  {
   "cell_type": "markdown",
   "metadata": {},
   "source": [
    "## Play Game\n",
    "Function to start a game, play and visualize it"
   ]
  },
  {
   "cell_type": "code",
   "execution_count": 13,
   "metadata": {
    "collapsed": true
   },
   "outputs": [],
   "source": [
    "\n",
    "def play_game(game, *players):\n",
    "    \"Play an n-person, move-alternating game.\"\n",
    "    state = game.initial\n",
    "    for item in state[1]:\n",
    "        for el in item:\n",
    "            if el == None:\n",
    "                print '_',\n",
    "            elif el == 'R':\n",
    "                print 'X',\n",
    "            else:\n",
    "                print 'O',\n",
    "        print\n",
    "    print\n",
    "    pl = state[0]\n",
    "    board = state[1]\n",
    "    st = str((pl,board))\n",
    "    #Verify if it is in pattern database\n",
    "    if st in pattern_database:\n",
    "        w = pattern_database[st]\n",
    "        if w == -1:\n",
    "            return 'RED WINS'\n",
    "        elif w == 1:\n",
    "            return 'BLUE WINS'\n",
    "        else:\n",
    "            return 'DRAW'\n",
    "    while True:\n",
    "        for player in players:\n",
    "            move = player(game, state)\n",
    "            state = game.make_move(move, state)\n",
    "            for item in state[1]:\n",
    "                for el in item:\n",
    "                    if el == None:\n",
    "                        print '_',\n",
    "                    elif el == 'R':\n",
    "                        print 'X',\n",
    "                    else:\n",
    "                        print 'O',\n",
    "                print\n",
    "            print\n",
    "            if game.terminal_test(state):\n",
    "                w = game.utility(state, 0)\n",
    "                if w == -10:\n",
    "                    return 'RED WINS'\n",
    "                elif w == 10:\n",
    "                    return 'BLUE WINS'\n",
    "                else:\n",
    "                    return 'DRAW'\n",
    "                    "
   ]
  },
  {
   "cell_type": "markdown",
   "metadata": {},
   "source": [
    "## Let's Play!"
   ]
  },
  {
   "cell_type": "code",
   "execution_count": null,
   "metadata": {
    "collapsed": false
   },
   "outputs": [
    {
     "name": "stdout",
     "output_type": "stream",
     "text": [
      "X _ _ _ _ X\n",
      "_ _ _ _ _ _\n",
      "_ _ _ _ _ _\n",
      "_ _ _ _ _ _\n",
      "_ _ _ _ _ _\n",
      "X _ _ _ _ X\n",
      "\n",
      "Your move? 3 2\n",
      "X _ _ _ _ X\n",
      "_ _ _ _ _ _\n",
      "_ _ _ _ _ _\n",
      "_ _ O _ _ _\n",
      "_ _ _ _ _ _\n",
      "X _ _ _ _ X\n",
      "\n",
      "X X _ _ _ X\n",
      "_ _ _ _ _ _\n",
      "_ _ _ _ _ _\n",
      "_ _ O _ _ _\n",
      "_ _ _ _ _ _\n",
      "X _ _ _ _ X\n",
      "\n",
      "Your move? 0 2\n",
      "X X O _ _ X\n",
      "_ _ _ _ _ _\n",
      "_ _ _ _ _ _\n",
      "_ _ O _ _ _\n",
      "_ _ _ _ _ _\n",
      "X _ _ _ _ X\n",
      "\n",
      "X X O _ _ X\n",
      "_ _ _ _ _ _\n",
      "_ _ X _ _ _\n",
      "_ _ O _ _ _\n",
      "_ _ _ _ _ _\n",
      "X _ _ _ _ X\n",
      "\n",
      "Your move? 3 3\n",
      "X X O _ _ X\n",
      "_ _ _ _ _ _\n",
      "_ _ X _ _ _\n",
      "_ _ O O _ _\n",
      "_ _ _ _ _ _\n",
      "X _ _ _ _ X\n",
      "\n"
     ]
    }
   ],
   "source": [
    "game = ofttt()\n",
    "\"\"\"Conventions:\n",
    "    The order in function represents blue and red respectively\n",
    "    At the game display: O is blue, X is red and _ is empty\n",
    "    \n",
    "\"\"\"\n",
    "print play_game(game, query_player, smart_player)          #Smart Player is red in this case\n",
    "#print play_game(game, smart_player, query_player)\n",
    "#print play_game(game, random_player, smart_player)\n",
    "#print play_game(game, smart_player, random_player)"
   ]
  },
  {
   "cell_type": "code",
   "execution_count": null,
   "metadata": {
    "collapsed": true
   },
   "outputs": [],
   "source": []
  }
 ],
 "metadata": {
  "anaconda-cloud": {},
  "kernelspec": {
   "display_name": "Python [conda env:py27]",
   "language": "python",
   "name": "conda-env-py27-py"
  },
  "language_info": {
   "codemirror_mode": {
    "name": "ipython",
    "version": 2
   },
   "file_extension": ".py",
   "mimetype": "text/x-python",
   "name": "python",
   "nbconvert_exporter": "python",
   "pygments_lexer": "ipython2",
   "version": "2.7.13"
  }
 },
 "nbformat": 4,
 "nbformat_minor": 1
}
