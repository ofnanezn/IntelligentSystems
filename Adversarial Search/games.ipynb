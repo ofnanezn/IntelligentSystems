{
 "cells": [
  {
   "cell_type": "markdown",
   "metadata": {},
   "source": [
    "# Adversarial Search in Games\n",
    "\n",
    "The following code is based on the code provided by the book [Artificial Intelligence: A Modern Approach](http://aima.cs.berkeley.edu/) in http://aima.cs.berkeley.edu/python/readme.html."
   ]
  },
  {
   "cell_type": "markdown",
   "metadata": {},
   "source": [
    "### Abstract class for modeling a game"
   ]
  },
  {
   "cell_type": "code",
   "execution_count": 1,
   "metadata": {
    "collapsed": true
   },
   "outputs": [],
   "source": [
    "class Game:\n",
    "    \"\"\"A game is similar to a problem, but it has a utility for each\n",
    "    state and a terminal test instead of a path cost and a goal\n",
    "    test. To create a game, subclass this class and implement\n",
    "    legal_moves, make_move, utility, and terminal_test. You may\n",
    "    override display and successors or you can inherit their default\n",
    "    methods. You will also need to set the .initial attribute to the\n",
    "    initial state; this can be done in the constructor.\"\"\"\n",
    "\n",
    "    def legal_moves(self, state):\n",
    "        \"Return a list of the allowable moves at this point.\"\n",
    "        abstract\n",
    "\n",
    "    def make_move(self, move, state):\n",
    "        \"Return the state that results from making a move from a state.\"\n",
    "        abstract\n",
    "\n",
    "    def utility(self, state, player):\n",
    "        \"Return the value of this final state to player.\"\n",
    "        abstract\n",
    "\n",
    "    def terminal_test(self, state):\n",
    "        \"Return True if this is a final state for the game.\"\n",
    "        return not self.legal_moves(state)\n",
    "\n",
    "    def to_move(self, state):\n",
    "        \"Return the player whose move it is in this state.\"\n",
    "        return state.to_move\n",
    "\n",
    "    def display(self, state):\n",
    "        \"Print or otherwise display the state.\"\n",
    "        print state\n",
    "\n",
    "    def successors(self, state):\n",
    "        \"Return a list of legal (move, state) pairs.\"\n",
    "        return [(move, self.make_move(move, state))\n",
    "                for move in self.legal_moves(state)]\n",
    "\n",
    "    def __repr__(self):\n",
    "        return '<%s>' % self.__class__.__name__"
   ]
  },
  {
   "cell_type": "markdown",
   "metadata": {},
   "source": [
    "### Minimax with alpha-beta pruning implementation\n",
    "\n",
    "Some auxiliary functions"
   ]
  },
  {
   "cell_type": "code",
   "execution_count": 2,
   "metadata": {
    "collapsed": false,
    "scrolled": true
   },
   "outputs": [],
   "source": [
    "def argmin(seq, fn):\n",
    "    \"\"\"Return an element with lowest fn(seq[i]) score; tie goes to first one.\n",
    "    >>> argmin(['one', 'to', 'three'], len)\n",
    "    'to'\n",
    "    \"\"\"\n",
    "    best = seq[0]; best_score = fn(best)\n",
    "    for x in seq:\n",
    "        x_score = fn(x)\n",
    "        if x_score < best_score:\n",
    "            best, best_score = x, x_score\n",
    "    print\n",
    "    return best\n",
    "\n",
    "def argmax(seq, fn):\n",
    "    \"\"\"Return an element with highest fn(seq[i]) score; tie goes to first one.\n",
    "    >>> argmax(['one', 'to', 'three'], len)\n",
    "    'three'\n",
    "    \"\"\"\n",
    "    return argmin(seq, lambda x: -fn(x))"
   ]
  },
  {
   "cell_type": "markdown",
   "metadata": {},
   "source": [
    "Minimax search function"
   ]
  },
  {
   "cell_type": "code",
   "execution_count": 3,
   "metadata": {
    "collapsed": false
   },
   "outputs": [],
   "source": [
    "def alphabeta_search(state, game, d=float('inf'), cutoff_test=None, eval_fn=None):\n",
    "    \"\"\"Search game to determine best action; use alpha-beta pruning.\n",
    "    This version cuts off search and uses an evaluation function.\"\"\"\n",
    "\n",
    "    player = game.to_move(state)\n",
    "\n",
    "    def max_value(state, alpha, beta, depth):\n",
    "        global nodes\n",
    "        if cutoff_test(state, depth):\n",
    "            global nodes\n",
    "            nodes += 1\n",
    "            return eval_fn(state, player)\n",
    "        v = -float('inf')\n",
    "        for (a, s) in game.successors(state):\n",
    "            nodes += 1\n",
    "            v = max(v, min_value(s, alpha, beta, depth+1))\n",
    "            if v >= beta:\n",
    "                return v\n",
    "            alpha = max(alpha, v)\n",
    "        return v\n",
    "\n",
    "    def min_value(state, alpha, beta, depth):\n",
    "        global nodes\n",
    "        if cutoff_test(state, depth):            \n",
    "            nodes += 1\n",
    "            return eval_fn(state, player)\n",
    "        v = float('inf')\n",
    "        for (a, s) in game.successors(state):\n",
    "            nodes += 1\n",
    "            v = min(v, max_value(s, alpha, beta, depth+1))\n",
    "            if v <= alpha:\n",
    "                return v\n",
    "            beta = min(beta, v)\n",
    "        return v\n",
    "    \n",
    "    global nodes\n",
    "    \n",
    "    nodes = 0\n",
    "\n",
    "    # Body of alphabeta_search starts here:\n",
    "    # The default test cuts off at depth d or at a terminal state\n",
    "    cutoff_test = (cutoff_test or (lambda state,depth: depth>d or game.terminal_test(state)))\n",
    "    eval_fn = eval_fn or (lambda state, player: game.utility(state, player))\n",
    "    action, state = argmax(game.successors(state), lambda ((a, s)): min_value(s, -float('inf'), float('inf'), 0))\n",
    "    print state,\"Player\",player,\"moved\",action,\"with\",nodes,\"nodes expanded.\"\n",
    "    return action\n"
   ]
  },
  {
   "cell_type": "markdown",
   "metadata": {},
   "source": [
    "### Generic playing agents\n",
    "\n",
    "Auxiliary functions"
   ]
  },
  {
   "cell_type": "code",
   "execution_count": 4,
   "metadata": {
    "collapsed": true
   },
   "outputs": [],
   "source": [
    "def num_or_str(x):\n",
    "    \"\"\"The argument is a string; convert to a number if possible, or strip it.\n",
    "    >>> num_or_str('42')\n",
    "    42\n",
    "    >>> num_or_str(' 42x ')\n",
    "    '42x'\n",
    "    \"\"\"\n",
    "    if isnumber(x): return x\n",
    "    try:\n",
    "        return int(x)\n",
    "    except ValueError:\n",
    "        try:\n",
    "            return float(x)\n",
    "        except ValueError:\n",
    "                return str(x).strip()\n",
    "\n",
    "def isnumber(x):\n",
    "    \"Is x a number? We say it is if it has a __int__ method.\"\n",
    "    return hasattr(x, '__int__')"
   ]
  },
  {
   "cell_type": "markdown",
   "metadata": {},
   "source": [
    "A player that makes a query for each move"
   ]
  },
  {
   "cell_type": "code",
   "execution_count": 5,
   "metadata": {
    "collapsed": true
   },
   "outputs": [],
   "source": [
    "def query_player(game, state):\n",
    "    \"Make a move by querying standard input.\"\n",
    "    game.display(state)\n",
    "    return num_or_str(raw_input('Your move? '))"
   ]
  },
  {
   "cell_type": "markdown",
   "metadata": {},
   "source": [
    "A player that chooses a move at random"
   ]
  },
  {
   "cell_type": "code",
   "execution_count": 6,
   "metadata": {
    "collapsed": true
   },
   "outputs": [],
   "source": [
    "import random\n",
    "\n",
    "def random_player(game, state):\n",
    "    \"A player that chooses a legal move at random.\"\n",
    "    return random.choice(game.legal_moves(state))"
   ]
  },
  {
   "cell_type": "markdown",
   "metadata": {},
   "source": [
    "A player that uses minimimax alpha-beta search"
   ]
  },
  {
   "cell_type": "code",
   "execution_count": 7,
   "metadata": {
    "collapsed": true
   },
   "outputs": [],
   "source": [
    "def alphabeta_player(game, state):\n",
    "    return alphabeta_search(state, game)"
   ]
  },
  {
   "cell_type": "markdown",
   "metadata": {},
   "source": [
    "A function that receives a list of players and call each player alternatively"
   ]
  },
  {
   "cell_type": "code",
   "execution_count": 8,
   "metadata": {
    "collapsed": false
   },
   "outputs": [],
   "source": [
    "def play_game(game, *players):\n",
    "    \"Play an n-person, move-alternating game.\"\n",
    "    state = game.initial\n",
    "    while True:\n",
    "        game.display(state)\n",
    "        for player in players:\n",
    "            move = player(game, state)\n",
    "            state = game.make_move(move, state)\n",
    "            if game.terminal_test(state):\n",
    "                return game.utility(state, 0)\n",
    "        print"
   ]
  },
  {
   "cell_type": "markdown",
   "metadata": {},
   "source": [
    "### The last-stone game\n",
    "\n",
    "The game is played with a heap of stones. Each player take alternatively a number $n$ of stones ($1 \\le n \\le 3$). The player that takes the last stone wins.\n",
    "\n",
    "An auxiliary class to define light-weight objects"
   ]
  },
  {
   "cell_type": "code",
   "execution_count": 9,
   "metadata": {
    "collapsed": true
   },
   "outputs": [],
   "source": [
    "class Struct:\n",
    "    \"\"\"Create an instance with argument=value slots.\n",
    "    This is for making a lightweight object whose class doesn't matter.\"\"\"\n",
    "    def __init__(self, **entries):\n",
    "        self.__dict__.update(entries)\n",
    "\n",
    "    def __cmp__(self, other):\n",
    "        if isinstance(other, Struct):\n",
    "            return cmp(self.__dict__, other.__dict__)\n",
    "        else:\n",
    "            return cmp(self.__dict__, other)\n",
    "\n",
    "    def __repr__(self):\n",
    "        args = ['%s=%s' % (k, repr(v)) for (k, v) in vars(self).items()]\n",
    "        return 'Struct(%s)' % ', '.join(args)"
   ]
  },
  {
   "cell_type": "markdown",
   "metadata": {},
   "source": [
    "The following class models the last-stone game:"
   ]
  },
  {
   "cell_type": "code",
   "execution_count": 10,
   "metadata": {
    "collapsed": false
   },
   "outputs": [],
   "source": [
    "class LastStone(Game):\n",
    "    def __init__(self, stones):\n",
    "        self.initial = Struct(to_move=0, heap = stones)\n",
    "\n",
    "    def legal_moves(self, state):\n",
    "        \"Return a list of the allowable moves at this point.\"\n",
    "        return range(1, min(3, state.heap) + 1)\n",
    "\n",
    "    def make_move(self, move, state):\n",
    "        \"Return the state that results from making a move from a state.\"\n",
    "        return Struct(to_move = 1 - state.to_move, heap = state.heap - move)\n",
    "        \n",
    "    def utility(self, state, player):\n",
    "        \"Return the value of this final state to player.\"\n",
    "        if state.to_move == player:\n",
    "            return -1\n",
    "        else:\n",
    "            return 1\n",
    "\n",
    "    def terminal_test(self, state):\n",
    "        \"Return True if this is a final state for the game.\"\n",
    "        return not self.legal_moves(state)\n",
    "\n",
    "    def to_move(self, state):\n",
    "        \"Return the player whose move it is in this state.\"\n",
    "        return state.to_move\n",
    "\n",
    "    def display(self, state):\n",
    "        \"Print or otherwise display the state.\"\n",
    "        print state\n",
    "\n",
    "    def successors(self, state):\n",
    "        \"Return a list of legal (move, state) pairs.\"\n",
    "        return [(move, self.make_move(move, state))\n",
    "                for move in self.legal_moves(state)]"
   ]
  },
  {
   "cell_type": "markdown",
   "metadata": {},
   "source": [
    "An interactive game against the computer, can you win?"
   ]
  },
  {
   "cell_type": "code",
   "execution_count": 11,
   "metadata": {
    "collapsed": false
   },
   "outputs": [
    {
     "name": "stdout",
     "output_type": "stream",
     "text": [
      "Struct(to_move=0, heap=12)\n",
      "Struct(to_move=0, heap=12) Player 0 moved 1 with 1 node expanded.\n",
      "\n",
      "Struct(to_move=0, heap=11) Player 1 moved 1 with 2344 nodes expanded.\n",
      "\n",
      "Struct(to_move=0, heap=11)\n",
      "Struct(to_move=0, heap=11) Player 0 moved 4 with 1 node expanded.\n",
      "\n",
      "Struct(to_move=0, heap=7) Player 1 moved 1 with 314 nodes expanded.\n",
      "\n",
      "Struct(to_move=0, heap=7)\n",
      "Struct(to_move=0, heap=7) Player 0 moved 4 with 1 node expanded.\n",
      "\n",
      "Struct(to_move=0, heap=3) Player 1 moved 1 with 29 nodes expanded.\n",
      "\n",
      "Struct(to_move=0, heap=3)\n",
      "Struct(to_move=0, heap=3) Player 0 moved 4 with 1 node expanded.\n"
     ]
    },
    {
     "data": {
      "text/plain": [
       "1"
      ]
     },
     "execution_count": 11,
     "metadata": {},
     "output_type": "execute_result"
    }
   ],
   "source": [
    "def playerMat(game, state):\n",
    "    player = game.to_move(state)\n",
    "    print state,\"Player\",player,\"moved\",(state.heap % 4) + 1,\"with 1 node expanded.\"\n",
    "    return state.heap % 4\n",
    "\n",
    "play_game(LastStone(12), playerMat, alphabeta_player)"
   ]
  },
  {
   "cell_type": "markdown",
   "metadata": {
    "collapsed": true
   },
   "source": [
    "#### 1. Design an evaluation function for the last-stone game and test it"
   ]
  },
  {
   "cell_type": "code",
   "execution_count": 12,
   "metadata": {
    "collapsed": false,
    "scrolled": true
   },
   "outputs": [
    {
     "name": "stdout",
     "output_type": "stream",
     "text": [
      "Struct(to_move=0, heap=15)\n",
      "\n",
      "Struct(to_move=1, heap=12) Player 0 moved 3 with 315 nodes expanded.\n",
      "\n",
      "Struct(to_move=0, heap=11) Player 1 moved 1 with 2344 nodes expanded.\n",
      "\n",
      "Struct(to_move=0, heap=11)\n",
      "\n",
      "Struct(to_move=1, heap=8) Player 0 moved 3 with 315 nodes expanded.\n",
      "\n",
      "Struct(to_move=0, heap=7) Player 1 moved 1 with 314 nodes expanded.\n",
      "\n",
      "Struct(to_move=0, heap=7)\n",
      "\n",
      "Struct(to_move=1, heap=4) Player 0 moved 3 with 163 nodes expanded.\n",
      "\n",
      "Struct(to_move=0, heap=3) Player 1 moved 1 with 29 nodes expanded.\n",
      "\n",
      "Struct(to_move=0, heap=3)\n",
      "\n",
      "Struct(to_move=1, heap=0) Player 0 moved 3 with 13 nodes expanded.\n",
      "Smart player wins\n"
     ]
    }
   ],
   "source": [
    "def eval_fn(state, player):\n",
    "    m = state.to_move\n",
    "    h = state.heap\n",
    "    #print state,\n",
    "    \n",
    "    if m == 0:\n",
    "        if h % 4 == 0:\n",
    "            #print -1,\"|\",\n",
    "            return -1\n",
    "        else:\n",
    "            #print 1,\"|\",\n",
    "            return 1\n",
    "    elif m == 1:\n",
    "        if h % 4 == 0:\n",
    "            #print 1,\"|\",\n",
    "            return 1\n",
    "        else:\n",
    "            #print -1,\"|\",\n",
    "            return -1\n",
    "    else:\n",
    "        return None\n",
    "    return None\n",
    "    \n",
    "def smart_player(game, state):\n",
    "    #print state\n",
    "    return alphabeta_search(state, game, d = 3, eval_fn = eval_fn)\n",
    "\n",
    "\n",
    "result = play_game(LastStone(15), smart_player, alphabeta_player)\n",
    "if result == 1:\n",
    "    print \"Smart player wins\"\n",
    "else:\n",
    "    print \"Smart player loses\""
   ]
  },
  {
   "cell_type": "markdown",
   "metadata": {},
   "source": [
    "### The 3-heaps last-stone game\n",
    "\n",
    "In this version of the game, there are three heaps instead of 1. In each turn, a player takes $n$ stones \n",
    "($1 \\le n \\le k$) from one of the heaps. The player that takes the last stone wins.\n",
    "\n",
    "#### 2. Define a class that models the 3-heaps last-stone game"
   ]
  },
  {
   "cell_type": "code",
   "execution_count": 13,
   "metadata": {
    "collapsed": false,
    "scrolled": true
   },
   "outputs": [],
   "source": [
    "class LastStone3Heaps(Game):\n",
    "    def __init__(self, k, heap1, heap2, heap3):\n",
    "        self.initial = Struct(to_move = 0, k = k, heap1 = heap1, heap2 = heap2, heap3 = heap3)\n",
    "\n",
    "    def legal_moves(self, state):\n",
    "        moves = list()\n",
    "        for i in range(1, min(state.k, state.heap1) + 1):\n",
    "            moves.append((1,i))\n",
    "        for i in range(1, min(state.k, state.heap2) + 1):\n",
    "            moves.append((2,i))\n",
    "        for i in range(1, min(state.k, state.heap3) + 1):\n",
    "            moves.append((3,i))            \n",
    "        return moves\n",
    "    \n",
    "    def make_move(self, move, state):\n",
    "        \"Move its a pair, wich contains heap, stones.\"\n",
    "        h, s = move\n",
    "        if h == 1:\n",
    "            return Struct(to_move = 1 - state.to_move, k = state.k, heap1 = state.heap1 - s, heap2 = state.heap2, heap3 = state.heap3)\n",
    "        elif h == 2:\n",
    "            return Struct(to_move = 1 - state.to_move, k = state.k, heap1 = state.heap1, heap2 = state.heap2 - s, heap3 = state.heap3)\n",
    "        elif h == 3:\n",
    "            return Struct(to_move = 1 - state.to_move, k = state.k, heap1 = state.heap1, heap2 = state.heap2, heap3 = state.heap3 - s)\n",
    "        else:\n",
    "            return None\n",
    "    \n",
    "    def utility(self, state, player):\n",
    "        \"Return the value of this final state to player.\"\n",
    "        if state.to_move == player:\n",
    "            return -1\n",
    "        else:\n",
    "            return 1\n",
    "\n",
    "    def terminal_test(self, state):\n",
    "        \"Return True if this is a final state for the game.\"\n",
    "        return not self.legal_moves(state)\n",
    "    \n",
    "    def to_move(self, state):\n",
    "        \"Return the player whose move it is in this state.\"\n",
    "        return state.to_move\n",
    "    \n",
    "    def display(self, state):\n",
    "        \"Print or otherwise display the state.\"\n",
    "        print state\n",
    "    \n",
    "    def successors(self, state):\n",
    "        \"Return a list of legal (move, state) pairs.\"\n",
    "        return [(move, self.make_move(move, state)) for move in self.legal_moves(state)]"
   ]
  },
  {
   "cell_type": "markdown",
   "metadata": {},
   "source": [
    "#### 3. Evaluate how many states are expanded with and without alpha-beta pruning\n",
    "Redefining minimax algorithm without Alpha/Beta."
   ]
  },
  {
   "cell_type": "code",
   "execution_count": 14,
   "metadata": {
    "collapsed": false
   },
   "outputs": [
    {
     "name": "stdout",
     "output_type": "stream",
     "text": [
      "Player 0: Without Alpha/Beta prunning. Player 1: Alpha/Beta prunning.\n",
      "Struct(heap3=5, heap2=4, heap1=4, k=2, to_move=0)\n",
      "\n",
      "Struct(heap3=3, heap2=4, heap1=4, k=2, to_move=1) Player 0 moved (3, 2) with 3667937 nodes expanded.\n",
      "\n",
      "Struct(heap3=3, heap2=4, heap1=3, k=2, to_move=0) Player 1 moved (1, 1) with 21959 nodes expanded.\n",
      "\n",
      "Struct(heap3=3, heap2=4, heap1=3, k=2, to_move=0)\n",
      "\n",
      "Struct(heap3=3, heap2=4, heap1=1, k=2, to_move=1) Player 0 moved (1, 2) with 84614 nodes expanded.\n",
      "\n",
      "Struct(heap3=3, heap2=4, heap1=0, k=2, to_move=0) Player 1 moved (1, 1) with 1410 nodes expanded.\n",
      "\n",
      "Struct(heap3=3, heap2=4, heap1=0, k=2, to_move=0)\n",
      "\n",
      "Struct(heap3=3, heap2=3, heap1=0, k=2, to_move=1) Player 0 moved (2, 1) with 711 nodes expanded.\n",
      "\n",
      "Struct(heap3=3, heap2=2, heap1=0, k=2, to_move=0) Player 1 moved (2, 1) with 221 nodes expanded.\n",
      "\n",
      "Struct(heap3=3, heap2=2, heap1=0, k=2, to_move=0)\n",
      "\n",
      "Struct(heap3=3, heap2=0, heap1=0, k=2, to_move=1) Player 0 moved (2, 2) with 97 nodes expanded.\n",
      "\n",
      "Struct(heap3=2, heap2=0, heap1=0, k=2, to_move=0) Player 1 moved (3, 1) with 12 nodes expanded.\n",
      "\n",
      "Struct(heap3=2, heap2=0, heap1=0, k=2, to_move=0)\n",
      "\n",
      "Struct(heap3=0, heap2=0, heap1=0, k=2, to_move=1) Player 0 moved (3, 2) with 2 nodes expanded.\n",
      "Smart player wins\n"
     ]
    }
   ],
   "source": [
    "#Define Minimax without alpha and beta\n",
    "def minimax(state, game, d=float('inf'), cutoff_test=None, eval_fn=None):\n",
    "    \"\"\"Search game to determine best action; use alpha-beta pruning.\n",
    "    This version cuts off search and uses an evaluation function.\"\"\"\n",
    "\n",
    "    player = game.to_move(state)\n",
    "    \n",
    "    def max_value(state, alpha, beta, depth):        \n",
    "        global nodes\n",
    "        if cutoff_test(state, depth):\n",
    "            nodes += 1\n",
    "            return eval_fn(state, player)\n",
    "        v = -float('inf')\n",
    "        for (a, s) in game.successors(state):\n",
    "            nodes += 1\n",
    "            v = max(v, min_value(s, alpha, beta, depth+1))\n",
    "        return v\n",
    "\n",
    "    def min_value(state, alpha, beta, depth):        \n",
    "        global nodes\n",
    "        if cutoff_test(state, depth):\n",
    "            nodes += 1\n",
    "            return eval_fn(state, player)\n",
    "        v = float('inf')\n",
    "        for (a, s) in game.successors(state):\n",
    "            nodes += 1\n",
    "            v = min(v, max_value(s, alpha, beta, depth+1))\n",
    "        return v\n",
    "    \n",
    "    global nodes\n",
    "    \n",
    "    nodes = 0\n",
    "    \n",
    "    # Body of alphabeta_search starts here:\n",
    "    # The default test cuts off at depth d or at a terminal state\n",
    "    #cutoff_test = (cutoff_test or (lambda state,depth: depth>d or game.terminal_test(state)))\n",
    "    cutoff_test = lambda state, depth: False\n",
    "    eval_fn = eval_fn or (lambda state, player: game.utility(state, player))\n",
    "    \n",
    "    action, state = argmax(game.successors(state), lambda ((a, s)): min_value(s, -float('inf'), float('inf'), 0))\n",
    "    #print \"R:\",action, state, eval_fn(state, player), \"Nodes:\",nodes\n",
    "    print state,\"Player\",player,\"moved\",action,\"with\",nodes,\"nodes expanded.\"\n",
    "    return action\n",
    "\n",
    "def MiniMax3Heaps(game, state):\n",
    "    return minimax(state, game)\n",
    "\n",
    "\n",
    "print \"Player 0: Without Alpha/Beta prunning. Player 1: Alpha/Beta prunning.\"\n",
    "\n",
    "\n",
    "result = play_game(LastStone3Heaps(2,4,4,5), MiniMax3Heaps, alphabeta_player)\n",
    "\n",
    "\n",
    "if result == 1:\n",
    "    print \"Smart player wins\"\n",
    "else:\n",
    "    print \"Smart player loses\""
   ]
  },
  {
   "cell_type": "markdown",
   "metadata": {},
   "source": [
    "#### 4. Design an evaluation function for the 3-heaps last-stone game and test it\n",
    "Our evaluation fuction is based on the sum of each heap and it's module with K."
   ]
  },
  {
   "cell_type": "code",
   "execution_count": 16,
   "metadata": {
    "collapsed": false,
    "scrolled": false
   },
   "outputs": [
    {
     "name": "stdout",
     "output_type": "stream",
     "text": [
      "Struct(heap3=8, heap2=6, heap1=4, k=3, to_move=0)\n",
      "\n",
      "Struct(heap3=8, heap2=4, heap1=4, k=3, to_move=1) Player 0 moved (2, 2) with 2009 nodes expanded.\n",
      "\n",
      "Struct(heap3=8, heap2=4, heap1=3, k=3, to_move=0) Player 1 moved (1, 1) with 579908 nodes expanded.\n",
      "\n",
      "Struct(heap3=8, heap2=4, heap1=3, k=3, to_move=0)\n",
      "\n",
      "Struct(heap3=8, heap2=4, heap1=0, k=3, to_move=1) Player 0 moved (1, 3) with 1490 nodes expanded.\n",
      "\n",
      "Struct(heap3=8, heap2=3, heap1=0, k=3, to_move=0) Player 1 moved (2, 1) with 10243 nodes expanded.\n",
      "\n",
      "Struct(heap3=8, heap2=3, heap1=0, k=3, to_move=0)\n",
      "\n",
      "Struct(heap3=8, heap2=0, heap1=0, k=3, to_move=1) Player 0 moved (2, 3) with 439 nodes expanded.\n",
      "\n",
      "Struct(heap3=7, heap2=0, heap1=0, k=3, to_move=0) Player 1 moved (3, 1) with 314 nodes expanded.\n",
      "\n",
      "Struct(heap3=7, heap2=0, heap1=0, k=3, to_move=0)\n",
      "\n",
      "Struct(heap3=4, heap2=0, heap1=0, k=3, to_move=1) Player 0 moved (3, 3) with 118 nodes expanded.\n",
      "\n",
      "Struct(heap3=3, heap2=0, heap1=0, k=3, to_move=0) Player 1 moved (3, 1) with 29 nodes expanded.\n",
      "\n",
      "Struct(heap3=3, heap2=0, heap1=0, k=3, to_move=0)\n",
      "\n",
      "Struct(heap3=0, heap2=0, heap1=0, k=3, to_move=1) Player 0 moved (3, 3) with 13 nodes expanded.\n",
      "Smart player wins\n"
     ]
    }
   ],
   "source": [
    "def fAux(m,a,b,c):\n",
    "    plus = 0\n",
    "    if a % m == 0:\n",
    "        plus += 1\n",
    "    if b % m == 0:\n",
    "        plus += 1\n",
    "    if c % m == 0:\n",
    "        plus += 1\n",
    "    return plus\n",
    "        \n",
    "\n",
    "def eval3Heaps(state, player):\n",
    "        \n",
    "    m = state.to_move\n",
    "    h1 = state.heap1\n",
    "    h2 = state.heap2\n",
    "    h3 = state.heap3\n",
    "    k = state.k + 1\n",
    "        \n",
    "    if m == 0:\n",
    "        if fAux(k,h1,h2,h3) == 2:\n",
    "            return 1\n",
    "        else:\n",
    "            return -1\n",
    "    elif m == 1:\n",
    "        if fAux(k,h1,h2,h3) == 2:\n",
    "            return -1\n",
    "        else:\n",
    "            return 1\n",
    "    else:\n",
    "        return None\n",
    "    return None\n",
    "    \n",
    "    \n",
    "def smart3Heaps(game, state):\n",
    "    return alphabeta_search(state, game, d = 2, eval_fn = eval3Heaps)\n",
    "\n",
    "def query3Heaps(game, state):\n",
    "    \"Make a move by querying standard input.\"\n",
    "    a = num_or_str(raw_input('Heap?: '))\n",
    "    b = num_or_str(raw_input('Stones?: '))\n",
    "    #print (a, b)\n",
    "    return (a, b)\n",
    "\n",
    "\n",
    "#alphabeta_player query3Heaps LastStone3Heaps\n",
    "result = play_game(LastStone3Heaps(3,4,6,8), smart3Heaps, alphabeta_player)\n",
    "\n",
    "if result == 1:\n",
    "    print \"Smart player wins\"\n",
    "else:\n",
    "    print \"Smart player loses\"\n",
    "    "
   ]
  },
  {
   "cell_type": "code",
   "execution_count": null,
   "metadata": {
    "collapsed": true
   },
   "outputs": [],
   "source": []
  }
 ],
 "metadata": {
  "kernelspec": {
   "display_name": "Python [conda env:py27]",
   "language": "python",
   "name": "conda-env-py27-py"
  },
  "language_info": {
   "codemirror_mode": {
    "name": "ipython",
    "version": 2
   },
   "file_extension": ".py",
   "mimetype": "text/x-python",
   "name": "python",
   "nbconvert_exporter": "python",
   "pygments_lexer": "ipython2",
   "version": "2.7.13"
  }
 },
 "nbformat": 4,
 "nbformat_minor": 0
}
