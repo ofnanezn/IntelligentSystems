{
 "cells": [
  {
   "cell_type": "markdown",
   "metadata": {
    "collapsed": false
   },
   "source": [
    "# Exam\n",
    "# Intelligent Systems 2017-1"
   ]
  },
  {
   "cell_type": "markdown",
   "metadata": {
    "collapsed": false
   },
   "source": [
    "### 1. \n",
    "Consider the following Bayes net:\n",
    "\n",
    "![net](bnet.jpg)\n",
    "\n",
    "where $A$, $B$, $C$ and $D$ are all binary variables.\n",
    "\n",
    "Write a function that takes as input a set of samples and calculates the parameter of the Bayes net model."
   ]
  },
  {
   "cell_type": "code",
   "execution_count": 14,
   "metadata": {
    "collapsed": false
   },
   "outputs": [
   ],
   "source": [
    "def bn_model(data, k):\n",
    "    '''\n",
    "    data: training data as a list of lists\n",
    "    [[A_1, B_1, C_1, D_1],\n",
    "     [A_2, B_2, C_2, D_2],\n",
    "     :\n",
    "     [A_n, B_n, C_n, D_n]\n",
    "    ]\n",
    "    k: Laplace's smoothing parameter\n",
    "    returns:\n",
    "    It must return the model as a dictionary with the following structure \n",
    "    (for example):\n",
    "\n",
    "    { 'A' : 0.1,\n",
    "      ('B', 'A', 0) : 0.4\n",
    "      ('B', 'A', 1) : 0.7\n",
    "      ('C', 'A', 0) : 0.2\n",
    "      ('C', 'A', 1) : 0.8\n",
    "      ('D', 'B', 1) : 0.1,\n",
    "      ('D', 'B', 0) : 0.2,\n",
    "    }\n",
    "    In this case the entry for 'A' means that P(A = 1) = 0.1 and therefore P(A = 0) = 0.9.\n",
    "    In the same way, the entry for ('D', 'B', 1) indicates that P(D = 1 | B = 1) = 0.1 and\n",
    "    therefore P(D = 0 | B = 1) = 0.9.\n",
    "    '''\n",
    "    # Your code here\n",
    "    model = {}\n",
    "    model['A'] = (sum([item[0] for item in data])+k+0.0)/(len(data)+2*k)\n",
    "    B1 = []\n",
    "    B0 = []\n",
    "    for i in range(len(data)):\n",
    "        if data[i][1] == 0:\n",
    "            B0.append(i)\n",
    "        else:\n",
    "            B1.append(i)\n",
    "    x = 0\n",
    "    for item in B1:\n",
    "        if data[item][0] == 1:\n",
    "            x += 1\n",
    "    num_a = sum([item[0] for item in data])\n",
    "    model[('B','A',1)] = (x + k + 0.0)/( num_a + 2*k)\n",
    "    x = 0\n",
    "    for item in B1:\n",
    "        if data[item][0] == 0:\n",
    "            x += 1\n",
    "    model[('B','A',0)] = (x + k + 0.0)/(len(data) - num_a + 2*k)\n",
    "    \n",
    "    C1 = []\n",
    "    C0 = []\n",
    "    for i in range(len(data)):\n",
    "        if data[i][2] == 0:\n",
    "            C0.append(i)\n",
    "        else:\n",
    "            C1.append(i)\n",
    "    x = 0\n",
    "    for item in C1:\n",
    "        if data[item][0] == 1:\n",
    "            x += 1\n",
    "    \n",
    "    model[('C','A',1)] = (x + k + 0.0)/( num_a + 2*k)\n",
    "    x = 0\n",
    "    for item in C1:\n",
    "        if data[item][0] == 0:\n",
    "            x += 1\n",
    "    model[('C','A',0)] = (x + k + 0.0)/(len(data) - num_a + 2*k)\n",
    "    \n",
    "    D1 = []\n",
    "    D0 = []\n",
    "    x = 0\n",
    "    for item in B0:\n",
    "        if data[item][3] == 1:\n",
    "            x += 1 \n",
    "    model[('D', 'B', 0)] = (x + k + 0.0)/(len(B0) + 2*k)\n",
    "    x = 0\n",
    "    for item in B1:\n",
    "        if data[item][3] == 1:\n",
    "            x += 1\n",
    "    model[('D', 'B', 1)] = (x + k + 0.0)/(len(B1) + 2*k)\n",
    "    return model\n"
   ]
  },
  {
   "cell_type": "code",
   "execution_count": 15,
   "metadata": {
    "collapsed": false
   },
   "outputs": [
    {
     "data": {
      "text/plain": [
       "{'A': 0.25,\n",
       " ('B', 'A', 0): 0.14285714285714285,\n",
       " ('B', 'A', 1): 0.3333333333333333,\n",
       " ('C', 'A', 0): 0.5714285714285714,\n",
       " ('C', 'A', 1): 0.3333333333333333,\n",
       " ('D', 'B', 0): 0.5,\n",
       " ('D', 'B', 1): 0.5}"
      ]
     },
     "execution_count": 15,
     "metadata": {
     },
     "output_type": "execute_result"
    }
   ],
   "source": [
    "data1 = [[0, 0, 1, 0], \n",
    "         [0, 0, 1, 0], \n",
    "         [0, 0, 0, 0], \n",
    "         [1, 0, 0, 1], \n",
    "         [0, 0, 1, 1], \n",
    "         [0, 0, 0, 1]]\n",
    "model1 = {'A': 0.25,\n",
    "          ('B', 'A', 0): 0.14285714285714285,\n",
    "          ('B', 'A', 1): 0.3333333333333333,\n",
    "          ('C', 'A', 0): 0.5714285714285714,\n",
    "          ('C', 'A', 1): 0.3333333333333333,\n",
    "          ('D', 'B', 0): 0.5,\n",
    "          ('D', 'B', 1): 0.5}\n",
    "\n",
    "bn_model(data1,1)"
   ]
  },
  {
   "cell_type": "markdown",
   "metadata": {
    "collapsed": false
   },
   "source": [
    "### 2. \n",
    "\n",
    "Write a function that given a model calculates $P(D|A)$"
   ]
  },
  {
   "cell_type": "code",
   "execution_count": 27,
   "metadata": {
    "collapsed": false
   },
   "outputs": [
    {
     "name": "stdout",
     "output_type": "stream",
     "text": [
      "\n"
     ]
    }
   ],
   "source": [
    "def p2(model, a):\n",
    "    '''\n",
    "    model: a dictionary with the model probabilities.\n",
    "    a: a value for A\n",
    "    Returns: the probability P(D = 1 | A = a)\n",
    "    '''\n",
    "    # Your code here\n",
    "    \n",
    "    model[('B',1,'A',0)] = model[('B', 'A', 0)]\n",
    "    model[('B',0,'A',0)] = 1.0 - model[('B', 'A', 0)]\n",
    "    model[('B',1,'A',1)] = model[('B', 'A', 1)]\n",
    "    model[('B',0,'A',1)] = 1.0 - model[('B', 'A', 1)]\n",
    "    \n",
    "    model[('C',1,'A',0)] = model[('C', 'A', 0)]\n",
    "    model[('C',0,'A',0)] = 1.0 - model[('C', 'A', 0)]\n",
    "    model[('C',1,'A',1)] = model[('C', 'A', 1)]\n",
    "    model[('C',0,'A',1)] = 1.0 - model[('C', 'A', 1)]\n",
    "    \n",
    "    pA = (model['A'] if a == 0 else 1.0 - model['A'])\n",
    "    p = sum([\n",
    "            pA*model[('B',i,'A',a)]*model[('C',j,'A',a)]*model[('D','B',i)]\n",
    "        for i in [0,1] for j in [0,1]\n",
    "    ])\n",
    "    return p / pA\n"
   ]
  },
  {
   "cell_type": "markdown",
   "metadata": {
    "collapsed": false
   },
   "source": [
    "### 3. \n",
    "\n",
    "Write a function that given a model calculates $P(C|D)$"
   ]
  },
  {
   "cell_type": "code",
   "execution_count": 40,
   "metadata": {
    "collapsed": false
   },
   "outputs": [
   ],
   "source": [
    "def p3(model, d):\n",
    "    '''\n",
    "    model: a dictionary with the model probabilities.\n",
    "    d: a value for D\n",
    "    Returns: the probability P(C = 1 | D = d)\n",
    "    '''\n",
    "    # Your code here\n",
    "    model[('B',1,'A',0)] = model[('B', 'A', 0)]\n",
    "    model[('B',0,'A',0)] = 1.0 - model[('B', 'A', 0)]\n",
    "    model[('B',1,'A',1)] = model[('B', 'A', 1)]\n",
    "    model[('B',0,'A',1)] = 1.0 - model[('B', 'A', 1)]\n",
    "    \n",
    "    model[('C',1,'A',0)] = model[('C', 'A', 0)]\n",
    "    model[('C',0,'A',0)] = 1.0 - model[('C', 'A', 0)]\n",
    "    model[('C',1,'A',1)] = model[('C', 'A', 1)]\n",
    "    model[('C',0,'A',1)] = 1.0 - model[('C', 'A', 1)]\n",
    "    \n",
    "    model[('D',1,'B',0)] = model[('D', 'B', 0)]\n",
    "    model[('D',0,'B',0)] = 1.0 - model[('D', 'B', 0)]\n",
    "    model[('D',1,'B',1)] = model[('D', 'B', 1)]\n",
    "    model[('D',0,'B',1)] = 1.0 - model[('D', 'B', 1)]\n",
    "    \n",
    "    pA = [1.0-model['A'],model['A']]\n",
    "    p = sum([\n",
    "            pA[j]*model[('B',i,'A',j)]*model[('C',1,'A',j)]*model[('D',d,'B',i)]\n",
    "        for i in [0,1] for j in [0,1]\n",
    "    ])\n",
    "    norm = sum([\n",
    "            pA[j]*model[('B',i,'A',j)]*model[('C',z,'A',j)]*model[('D',d,'B',i)]\n",
    "        for i in [0,1] for j in [0,1] for z in [0,1]\n",
    "    ])\n",
    "    return p/norm\n"
   ]
  },
  {
   "cell_type": "markdown",
   "metadata": {
    "collapsed": false
   },
   "source": [
    "### 4. \n",
    "\n",
    "Write a function that given a model calculates $P(A|C, D)$"
   ]
  },
  {
   "cell_type": "code",
   "execution_count": 52,
   "metadata": {
    "collapsed": false
   },
   "outputs": [
   ],
   "source": [
    "def p4(model):\n",
    "    '''\n",
    "    model: a dictionary with the model probabilities.\n",
    "    Returns: a list with the probabilities P(A = 1 | C = c, D = d)\n",
    "             [P(A = 1 | C = 0, D = 0),\n",
    "              P(A = 1 | C = 0, D = 1),\n",
    "              P(A = 1 | C = 1, D = 0),\n",
    "              P(A = 1 | C = 1, D = 1)]\n",
    "    '''\n",
    "    # Your code here\n",
    "    result = [0, 0, 0, 0]\n",
    "    \n",
    "    model[('B',1,'A',0)] = model[('B', 'A', 0)]\n",
    "    model[('B',0,'A',0)] = 1.0 - model[('B', 'A', 0)]\n",
    "    model[('B',1,'A',1)] = model[('B', 'A', 1)]\n",
    "    model[('B',0,'A',1)] = 1.0 - model[('B', 'A', 1)]\n",
    "    \n",
    "    model[('C',1,'A',0)] = model[('C', 'A', 0)]\n",
    "    model[('C',0,'A',0)] = 1.0 - model[('C', 'A', 0)]\n",
    "    model[('C',1,'A',1)] = model[('C', 'A', 1)]\n",
    "    model[('C',0,'A',1)] = 1.0 - model[('C', 'A', 1)]\n",
    "    \n",
    "    model[('D',1,'B',0)] = model[('D', 'B', 0)]\n",
    "    model[('D',0,'B',0)] = 1.0 - model[('D', 'B', 0)]\n",
    "    model[('D',1,'B',1)] = model[('D', 'B', 1)]\n",
    "    \n",
    "    pA = [1.0-model['A'],model['A']]\n",
    "    \n",
    "    p = {}\n",
    "    p = {\n",
    "       (i,j): sum([\n",
    "                 model['A']*model[('B',z,'A',1)]*model[('C',i,'A',1)]*model[('D',j,'B',z)] \n",
    "                for z in [0,1]\n",
    "            ])\n",
    "        for i in [0,1] for j in [0,1]\n",
    "    }\n",
    "    norm = {\n",
    "       (i,j): sum([\n",
    "                 pA[y] *model[('B',z,'A',y)]*model[('C',i,'A',y)]*model[('D',j,'B',z)] \n",
    "                for z in [0,1] for y in [0,1]\n",
    "            ])\n",
    "        for i in [0,1] for j in [0,1]\n",
    "    }\n",
    "    \n",
    "    for key in p:\n",
    "        p[key] /= norm[key]\n",
    "    result[0] = p[(0,0)]\n",
    "    result[1] = p[(0,1)]\n",
    "    result[2] = p[(1,0)]\n",
    "    result[3] = p[(1,1)]\n",
    "    return result\n",
    "\n"
   ]
  },
  {
   "cell_type": "code",
   "execution_count": 53,
   "metadata": {
    "collapsed": false
   },
   "outputs": [
    {
     "name": "stdout",
     "output_type": "stream",
     "text": [
      "[0.34146341463414637, 0.34146341463414637, 0.1627906976744186, 0.1627906976744186]\n",
      "[0.19230769230769232, 0.2777777777777778, 0.0, 0.0]\n",
      "[0.24251497005988026, 0.269861609431061, 0.12998624484181567, 0.1471081307627829]\n"
     ]
    }
   ],
   "source": [
    "[0.34146341463414637, 0.34146341463414637, 0.16279069767441862, 0.16279069767441862]\n",
    "print p4(model1)\n",
    "[0.19230769230769232, 0.2777777777777778, 0.0, 0.0]\n",
    "print p4(model2)\n",
    "[0.24251497005988026, 0.26986160943106097, 0.1299862448418157, 0.14710813076278287]\n",
    "print p4(model3)\n"
   ]
  },
  {
   "cell_type": "markdown",
   "metadata": {
    "collapsed": false
   },
   "source": [
    "### Grader\n",
    "\n",
    "Run the following cell to grade your exam."
   ]
  },
  {
   "cell_type": "code",
   "execution_count": 54,
   "metadata": {
    "collapsed": false
   },
   "outputs": [
    {
     "name": "stdout",
     "output_type": "stream",
     "text": [
      "Score:  4 / 4\n"
     ]
    }
   ],
   "source": [
    "def approx_equal(val1, val2):\n",
    "    return abs(val1-val2) <= 0.00001\n",
    "\n",
    "def test_dict(test, answer):\n",
    "    if sorted(test.keys()) != sorted(answer.keys()): return False\n",
    "    for k,v in test.items():\n",
    "        if not approx_equal(v,answer[k]):\n",
    "            return False\n",
    "    return True\n",
    "\n",
    "def test_list(test, answer):\n",
    "    for k,v in enumerate(test):\n",
    "        if not approx_equal(v, answer[k]):\n",
    "            return False\n",
    "    return True\n",
    "\n",
    "data1 = [[0, 0, 1, 0], \n",
    "         [0, 0, 1, 0], \n",
    "         [0, 0, 0, 0], \n",
    "         [1, 0, 0, 1], \n",
    "         [0, 0, 1, 1], \n",
    "         [0, 0, 0, 1]]\n",
    "model1 = {'A': 0.25,\n",
    "          ('B', 'A', 0): 0.14285714285714285,\n",
    "          ('B', 'A', 1): 0.3333333333333333,\n",
    "          ('C', 'A', 0): 0.5714285714285714,\n",
    "          ('C', 'A', 1): 0.3333333333333333,\n",
    "          ('D', 'B', 0): 0.5,\n",
    "          ('D', 'B', 1): 0.5}\n",
    "data2 = [[0, 0, 1, 1], \n",
    "         [0, 1, 0, 0], \n",
    "         [0, 0, 0, 0], \n",
    "         [1, 1, 0, 1], \n",
    "         [0, 1, 1, 1], \n",
    "         [0, 1, 0, 1]]\n",
    "model2 = {'A': 0.16666666666666666,\n",
    "          ('B', 'A', 0): 0.6,\n",
    "          ('B', 'A', 1): 1.0,\n",
    "          ('C', 'A', 0): 0.4,\n",
    "          ('C', 'A', 1): 0.0,\n",
    "          ('D', 'B', 0): 0.5,\n",
    "          ('D', 'B', 1): 0.75}\n",
    "model3 = {'A': 0.21428571428571427,\n",
    "          ('B', 'A', 0): 0.5833333333333334,\n",
    "          ('B', 'A', 1): 0.75,\n",
    "          ('C', 'A', 0): 0.4166666666666667,\n",
    "          ('C', 'A', 1): 0.25,\n",
    "          ('D', 'B', 0): 0.5,\n",
    "          ('D', 'B', 1): 0.7}\n",
    "\n",
    "def test_P1():\n",
    "    student = bn_model(data1,1)\n",
    "    if not test_dict(student, model1):\n",
    "        return False\n",
    "    student = bn_model(data2, 0)\n",
    "    if not test_dict(student, model2):\n",
    "        return False\n",
    "    student = bn_model(data2, 0.5)\n",
    "    if not test_dict(student, model3):\n",
    "        return False\n",
    "    return True\n",
    "\n",
    "\n",
    "        \n",
    "def test_P2():\n",
    "    if not approx_equal(0.5, p2(model1, 0)):\n",
    "        return False\n",
    "    if not approx_equal(0.5, p2(model1, 1)):\n",
    "        return False\n",
    "    if not approx_equal(0.65, p2(model2, 0)):\n",
    "        return False\n",
    "    if not approx_equal(0.75, p2(model2, 1)):\n",
    "        return False\n",
    "    if not approx_equal(0.616666666667, p2(model3, 0)):\n",
    "        return False\n",
    "    if not approx_equal(0.65, p2(model3, 1)):\n",
    "        return False\n",
    "    return True\n",
    "\n",
    "def test_P3():\n",
    "    if not approx_equal(0.511904761905, p3(model1, 0)):\n",
    "        return False\n",
    "    if not approx_equal(0.511904761905, p3(model1, 1)):\n",
    "        return False\n",
    "    if not approx_equal(0.35, p3(model2, 0)):\n",
    "        return False\n",
    "    if not approx_equal(0.325, p3(model2, 1)):\n",
    "        return False\n",
    "    if not approx_equal(0.383438818565, p3(model3, 0)):\n",
    "        return False\n",
    "    if not approx_equal(0.379452926209, p3(model3, 1)):\n",
    "        return False\n",
    "    return True\n",
    "\n",
    "def test_P4():\n",
    "    if not test_list([0.34146341463414637, 0.34146341463414637, 0.16279069767441862, 0.16279069767441862],\n",
    "                        p4(model1)):\n",
    "        return False\n",
    "    if not test_list([0.19230769230769232, 0.2777777777777778, 0.0, 0.0],\n",
    "                        p4(model2)):\n",
    "        return False\n",
    "    if not test_list([0.24251497005988026, 0.26986160943106097, 0.1299862448418157, 0.14710813076278287],\n",
    "                        p4(model3)):\n",
    "        return False\n",
    "    return True\n",
    "\n",
    "\n",
    "def evaluate():\n",
    "    score = 0 \n",
    "    for test in [test_P1, test_P2, test_P3, test_P4]:\n",
    "        if test():\n",
    "            score += 1\n",
    "    return score\n",
    "\n",
    "print \"Score: \", evaluate(), \"/ 4\""
   ]
  },
  {
   "cell_type": "code",
   "execution_count": 0,
   "metadata": {
    "collapsed": true
   },
   "outputs": [
   ],
   "source": [
   ]
  }
 ],
 "metadata": {
  "kernelspec": {
   "display_name": "Python 2 (SageMath)",
   "language": "python",
   "name": "python2"
  },
  "language_info": {
   "codemirror_mode": {
    "name": "ipython",
    "version": 2
   },
   "file_extension": ".py",
   "mimetype": "text/x-python",
   "name": "python",
   "nbconvert_exporter": "python",
   "pygments_lexer": "ipython2",
   "version": "2.7.13"
  }
 },
 "nbformat": 4,
 "nbformat_minor": 0
}